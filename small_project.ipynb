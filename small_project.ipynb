{
  "metadata": {
    "kernelspec": {
      "name": "python3",
      "display_name": "Python 3",
      "language": "python"
    },
    "language_info": {
      "name": "python",
      "version": "3.10.14",
      "mimetype": "text/x-python",
      "codemirror_mode": {
        "name": "ipython",
        "version": 3
      },
      "pygments_lexer": "ipython3",
      "nbconvert_exporter": "python",
      "file_extension": ".py"
    },
    "colab": {
      "provenance": []
    },
    "kaggle": {
      "accelerator": "gpu",
      "dataSources": [
        {
          "sourceId": 9564979,
          "sourceType": "datasetVersion",
          "datasetId": 5829354
        }
      ],
      "dockerImageVersionId": 30787,
      "isInternetEnabled": true,
      "language": "python",
      "sourceType": "notebook",
      "isGpuEnabled": true
    }
  },
  "nbformat_minor": 5,
  "nbformat": 4,
  "cells": [
    {
      "cell_type": "markdown",
      "source": [
        "2302700 - Muhd Hafiz bin Abdul Halim\n",
        "\n",
        "2200581 - Muhammad Azreen Bin Muhamamad"
      ],
      "metadata": {
        "id": "0NIMJtGLc5ZF"
      },
      "id": "0NIMJtGLc5ZF"
    },
    {
      "cell_type": "markdown",
      "source": [
        "Best results are achieved under:\n",
        "++++++++++++++++++++++\n",
        "\n",
        "Feature Extractor/Preprocess the dataset=True\n",
        "\n",
        "Data Augmentation=False\n",
        "\n",
        "Use-pre-trained-model=True\n",
        "\n",
        "Finetune=True\n",
        "\n",
        "Optimizer=adamW\n",
        "\n",
        "Hyperparameters=True\n",
        "\n",
        "EarlyStopping=True\n",
        "\n",
        "Different NN=False\n",
        "\n",
        "Pooling Layer-=False\n",
        "\n",
        "++++++++++++++++++++++"
      ],
      "metadata": {
        "id": "kQu8wqFsP2JH"
      },
      "id": "kQu8wqFsP2JH"
    },
    {
      "cell_type": "markdown",
      "source": [
        "# Training Phase\n"
      ],
      "metadata": {
        "id": "iVbmV5qhALcV"
      },
      "id": "iVbmV5qhALcV"
    },
    {
      "cell_type": "markdown",
      "source": [],
      "metadata": {
        "id": "UY13IJ8EdLei"
      },
      "id": "UY13IJ8EdLei"
    },
    {
      "cell_type": "markdown",
      "source": [
        "# Check if your using Nvidia GPU\n",
        "### Amd gpu works too via ROCM on pytorch linux\n",
        "### Install dataset as both colab and kaggle does not contain it at runtime"
      ],
      "metadata": {
        "id": "wks64T_yGt7x"
      },
      "id": "wks64T_yGt7x"
    },
    {
      "cell_type": "code",
      "source": [
        "!nvidia-smi #make sure you choose GPU, the default type is CPU, click change runtime type, set hardware accelerator to *GPU"
      ],
      "metadata": {
        "id": "UF0qVkFglRjk",
        "colab": {
          "base_uri": "https://localhost:8080/"
        },
        "outputId": "8340f093-8c61-4c50-8fb1-eb4799ea7bde",
        "execution": {
          "iopub.status.busy": "2024-10-08T23:50:44.170047Z",
          "iopub.execute_input": "2024-10-08T23:50:44.170555Z",
          "iopub.status.idle": "2024-10-08T23:50:45.267926Z",
          "shell.execute_reply.started": "2024-10-08T23:50:44.170507Z",
          "shell.execute_reply": "2024-10-08T23:50:45.266582Z"
        },
        "trusted": true
      },
      "execution_count": null,
      "outputs": [
        {
          "name": "stdout",
          "text": "Tue Oct  8 23:50:45 2024       \n+-----------------------------------------------------------------------------------------+\n| NVIDIA-SMI 550.90.07              Driver Version: 550.90.07      CUDA Version: 12.4     |\n|-----------------------------------------+------------------------+----------------------+\n| GPU  Name                 Persistence-M | Bus-Id          Disp.A | Volatile Uncorr. ECC |\n| Fan  Temp   Perf          Pwr:Usage/Cap |           Memory-Usage | GPU-Util  Compute M. |\n|                                         |                        |               MIG M. |\n|=========================================+========================+======================|\n|   0  Tesla P100-PCIE-16GB           Off |   00000000:00:04.0 Off |                    0 |\n| N/A   42C    P0             27W /  250W |       0MiB /  16384MiB |      0%      Default |\n|                                         |                        |                  N/A |\n+-----------------------------------------+------------------------+----------------------+\n                                                                                         \n+-----------------------------------------------------------------------------------------+\n| Processes:                                                                              |\n|  GPU   GI   CI        PID   Type   Process name                              GPU Memory |\n|        ID   ID                                                               Usage      |\n|=========================================================================================|\n|  No running processes found                                                             |\n+-----------------------------------------------------------------------------------------+\n",
          "output_type": "stream"
        }
      ],
      "id": "UF0qVkFglRjk"
    },
    {
      "cell_type": "code",
      "source": [
        "!unzip -o small-project.zip -d small-project"
      ],
      "metadata": {
        "id": "Ms7kMXDT49TJ",
        "colab": {
          "base_uri": "https://localhost:8080/"
        },
        "outputId": "a4e2c2bb-51fc-46d2-b9db-fbed9fcbf61d",
        "execution": {
          "iopub.status.busy": "2024-10-08T23:50:45.270470Z",
          "iopub.execute_input": "2024-10-08T23:50:45.270894Z",
          "iopub.status.idle": "2024-10-08T23:50:46.508231Z",
          "shell.execute_reply.started": "2024-10-08T23:50:45.270848Z",
          "shell.execute_reply": "2024-10-08T23:50:46.506781Z"
        },
        "trusted": true
      },
      "execution_count": null,
      "outputs": [
        {
          "name": "stdout",
          "text": "unzip:  cannot find or open small-project.zip, small-project.zip.zip or small-project.zip.ZIP.\n",
          "output_type": "stream"
        }
      ],
      "id": "Ms7kMXDT49TJ"
    },
    {
      "cell_type": "code",
      "source": [
        "!pip install datasets"
      ],
      "metadata": {
        "id": "Xy8_g_wRlQ_w",
        "colab": {
          "base_uri": "https://localhost:8080/"
        },
        "outputId": "62b38d4b-7e9d-48fd-cfaa-6b53c185e9ce",
        "execution": {
          "iopub.status.busy": "2024-10-08T23:50:46.510804Z",
          "iopub.execute_input": "2024-10-08T23:50:46.511510Z",
          "iopub.status.idle": "2024-10-08T23:50:59.825629Z",
          "shell.execute_reply.started": "2024-10-08T23:50:46.511437Z",
          "shell.execute_reply": "2024-10-08T23:50:59.824481Z"
        },
        "trusted": true
      },
      "execution_count": null,
      "outputs": [
        {
          "name": "stdout",
          "text": "Requirement already satisfied: datasets in /opt/conda/lib/python3.10/site-packages (3.0.1)\nRequirement already satisfied: filelock in /opt/conda/lib/python3.10/site-packages (from datasets) (3.15.1)\nRequirement already satisfied: numpy>=1.17 in /opt/conda/lib/python3.10/site-packages (from datasets) (1.26.4)\nRequirement already satisfied: pyarrow>=15.0.0 in /opt/conda/lib/python3.10/site-packages (from datasets) (16.1.0)\nRequirement already satisfied: dill<0.3.9,>=0.3.0 in /opt/conda/lib/python3.10/site-packages (from datasets) (0.3.8)\nRequirement already satisfied: pandas in /opt/conda/lib/python3.10/site-packages (from datasets) (2.2.2)\nRequirement already satisfied: requests>=2.32.2 in /opt/conda/lib/python3.10/site-packages (from datasets) (2.32.3)\nRequirement already satisfied: tqdm>=4.66.3 in /opt/conda/lib/python3.10/site-packages (from datasets) (4.66.4)\nRequirement already satisfied: xxhash in /opt/conda/lib/python3.10/site-packages (from datasets) (3.4.1)\nRequirement already satisfied: multiprocess in /opt/conda/lib/python3.10/site-packages (from datasets) (0.70.16)\nRequirement already satisfied: fsspec<=2024.6.1,>=2023.1.0 in /opt/conda/lib/python3.10/site-packages (from fsspec[http]<=2024.6.1,>=2023.1.0->datasets) (2024.6.1)\nRequirement already satisfied: aiohttp in /opt/conda/lib/python3.10/site-packages (from datasets) (3.9.5)\nRequirement already satisfied: huggingface-hub>=0.22.0 in /opt/conda/lib/python3.10/site-packages (from datasets) (0.25.1)\nRequirement already satisfied: packaging in /opt/conda/lib/python3.10/site-packages (from datasets) (21.3)\nRequirement already satisfied: pyyaml>=5.1 in /opt/conda/lib/python3.10/site-packages (from datasets) (6.0.2)\nRequirement already satisfied: aiosignal>=1.1.2 in /opt/conda/lib/python3.10/site-packages (from aiohttp->datasets) (1.3.1)\nRequirement already satisfied: attrs>=17.3.0 in /opt/conda/lib/python3.10/site-packages (from aiohttp->datasets) (23.2.0)\nRequirement already satisfied: frozenlist>=1.1.1 in /opt/conda/lib/python3.10/site-packages (from aiohttp->datasets) (1.4.1)\nRequirement already satisfied: multidict<7.0,>=4.5 in /opt/conda/lib/python3.10/site-packages (from aiohttp->datasets) (6.0.5)\nRequirement already satisfied: yarl<2.0,>=1.0 in /opt/conda/lib/python3.10/site-packages (from aiohttp->datasets) (1.9.4)\nRequirement already satisfied: async-timeout<5.0,>=4.0 in /opt/conda/lib/python3.10/site-packages (from aiohttp->datasets) (4.0.3)\nRequirement already satisfied: typing-extensions>=3.7.4.3 in /opt/conda/lib/python3.10/site-packages (from huggingface-hub>=0.22.0->datasets) (4.12.2)\nRequirement already satisfied: pyparsing!=3.0.5,>=2.0.2 in /opt/conda/lib/python3.10/site-packages (from packaging->datasets) (3.1.2)\nRequirement already satisfied: charset-normalizer<4,>=2 in /opt/conda/lib/python3.10/site-packages (from requests>=2.32.2->datasets) (3.3.2)\nRequirement already satisfied: idna<4,>=2.5 in /opt/conda/lib/python3.10/site-packages (from requests>=2.32.2->datasets) (3.7)\nRequirement already satisfied: urllib3<3,>=1.21.1 in /opt/conda/lib/python3.10/site-packages (from requests>=2.32.2->datasets) (1.26.18)\nRequirement already satisfied: certifi>=2017.4.17 in /opt/conda/lib/python3.10/site-packages (from requests>=2.32.2->datasets) (2024.8.30)\nRequirement already satisfied: python-dateutil>=2.8.2 in /opt/conda/lib/python3.10/site-packages (from pandas->datasets) (2.9.0.post0)\nRequirement already satisfied: pytz>=2020.1 in /opt/conda/lib/python3.10/site-packages (from pandas->datasets) (2024.1)\nRequirement already satisfied: tzdata>=2022.7 in /opt/conda/lib/python3.10/site-packages (from pandas->datasets) (2024.1)\nRequirement already satisfied: six>=1.5 in /opt/conda/lib/python3.10/site-packages (from python-dateutil>=2.8.2->pandas->datasets) (1.16.0)\n",
          "output_type": "stream"
        }
      ],
      "id": "Xy8_g_wRlQ_w"
    },
    {
      "cell_type": "markdown",
      "source": [
        "### Puts input files into seperate folders"
      ],
      "metadata": {
        "id": "_kQ4HPevbYH0"
      },
      "id": "_kQ4HPevbYH0"
    },
    {
      "cell_type": "code",
      "source": [
        "import os\n",
        "import pandas as pd\n",
        "import numpy as np\n",
        "import shutil\n",
        "\n",
        "df_all = pd.read_csv('small-project/small-project/IEMOCAP_4.tsv',sep='\\t')\n",
        "speakers = np.unique(data_all['speaker']) # only 10 speakers, (['Ses01F', 'Ses01M', 'Ses02F', 'Ses02M', 'Ses03F', 'Ses03M','Ses04F', 'Ses04M', 'Ses05F', 'Ses05M']\n",
        "spk_len = len(speakers)\n",
        "spk_len\n",
        "\n",
        "test_idx = np.array(df_all['speaker']==speakers[0]) # audio from 'Ses01F' as test set\n",
        "val_idx = np.array(df_all['speaker']==speakers[1]) #  audio from 'Ses01M' as val set\n",
        "train_idx = True^(test_idx+val_idx)\n",
        "train_data_info = df_all[train_idx].reset_index(drop=True)\n",
        "val_data_info = df_all[val_idx].reset_index(drop=True)\n",
        "test_data_info = df_all[test_idx].reset_index(drop=True)\n"
      ],
      "metadata": {
        "id": "LJW2k56DbPBI"
      },
      "id": "LJW2k56DbPBI",
      "execution_count": null,
      "outputs": []
    },
    {
      "cell_type": "code",
      "source": [
        "og_path = \"small-project\\small-project\\IEMOCAP_full_release_audio\"\n",
        "\n",
        "TRAIN = os.path.join(\"\", 'train')\n",
        "os.makedirs(TRAIN, exist_ok=True)\n",
        "TEST = os.path.join(\"\", 'test')\n",
        "os.makedirs(TEST, exist_ok=True)\n",
        "VAL = os.path.join(\"\", 'val')\n",
        "os.makedirs(VAL, exist_ok=True)\n",
        "\n",
        "for row in train_data_info['filename']:\n",
        "    original_filepath = os.path.join(og_path, f\"{row}.wav\")\n",
        "    new_filepath = os.path.join(TRAIN, f\"{row}.wav\")\n",
        "    # Copy the file to the destination folder\n",
        "    shutil.copy(original_filepath, new_filepath)\n",
        "\n",
        "for row in test_data_info['filename']:\n",
        "    original_filepath = os.path.join(og_path, f\"{row}.wav\")\n",
        "    new_filepath = os.path.join(TEST, f\"{row}.wav\")\n",
        "    # Copy the file to the destination folder\n",
        "    shutil.copy(original_filepath, new_filepath)\n",
        "\n",
        "\n",
        "for row in val_data_info['filename']:\n",
        "    original_filepath = os.path.join(og_path, f\"{row}.wav\")\n",
        "    new_filepath = os.path.join(VAL, f\"{row}.wav\")\n",
        "    # Copy the file to the destination folder\n",
        "    shutil.copy(original_filepath, new_filepath)"
      ],
      "metadata": {
        "id": "NR6WiBC4b8B7"
      },
      "id": "NR6WiBC4b8B7",
      "execution_count": null,
      "outputs": []
    },
    {
      "cell_type": "markdown",
      "source": [
        "# Import Package and Ultilty Function\n"
      ],
      "metadata": {
        "id": "QrN3WCcJGyWs"
      },
      "id": "QrN3WCcJGyWs"
    },
    {
      "cell_type": "code",
      "source": [
        "import random\n",
        "\n",
        "# Define the seed setup function\n",
        "def setup_seed(seed=2042):\n",
        "    torch.manual_seed(seed)\n",
        "    torch.cuda.manual_seed(seed)\n",
        "    torch.cuda.manual_seed_all(seed)\n",
        "    np.random.seed(seed)\n",
        "    random.seed(seed)\n",
        "    torch.backends.cudnn.benchmark = False\n",
        "    torch.backends.cudnn.deterministic = True"
      ],
      "metadata": {
        "execution": {
          "iopub.status.busy": "2024-10-08T23:50:59.829027Z",
          "iopub.execute_input": "2024-10-08T23:50:59.829492Z",
          "iopub.status.idle": "2024-10-08T23:50:59.837479Z",
          "shell.execute_reply.started": "2024-10-08T23:50:59.829421Z",
          "shell.execute_reply": "2024-10-08T23:50:59.836470Z"
        },
        "trusted": true,
        "id": "RhTfauETGdWE"
      },
      "execution_count": null,
      "outputs": [],
      "id": "RhTfauETGdWE"
    },
    {
      "cell_type": "code",
      "source": [
        "import os\n",
        "import pandas as pd\n",
        "import torchaudio\n",
        "import torch\n",
        "from datasets import Dataset, DatasetDict\n",
        "from transformers import EarlyStoppingCallback\n",
        "from transformers import Wav2Vec2FeatureExtractor, Wav2Vec2ForSequenceClassification, Trainer, TrainingArguments\n",
        "import numpy as np\n",
        "\n",
        "# Path to your dataset and CSV file\n",
        "TSV = r'/kaggle/input/small-project-dataset/dataset/IEMOCAP_4.tsv' #Change to Collab/Kaggle Directory\n",
        "DATASET = r'/kaggle/input/small-project-dataset/dataset' #Change to Collab/Kaggle Directory\n",
        "TRAIN = os.path.join(DATASET, 'train')\n",
        "TEST = os.path.join(DATASET, 'test')\n",
        "VAL = os.path.join(DATASET, 'val')\n",
        "\n",
        "# Verify filepaths\n",
        "print(\"Train folder path:\", TRAIN)\n",
        "print(\"Test folder path:\", TEST)\n",
        "print(\"Validation folder path:\", VAL)\n",
        "\n",
        "# Define label mapping\n",
        "label_mapping = {\"A\": 0, \"H\": 1, \"N\": 2, \"S\": 3}\n",
        "\n",
        "# Parameters\n",
        "max_len = 7\n",
        "epochs = 15\n",
        "seed = 2042\n",
        "\n",
        "# Set the seed for reproducibility\n",
        "setup_seed(seed)"
      ],
      "metadata": {
        "id": "487ad5d5-bea7-44e4-8a8c-8efec0c8d358",
        "execution": {
          "iopub.status.busy": "2024-10-09T01:38:28.952127Z",
          "iopub.execute_input": "2024-10-09T01:38:28.952832Z",
          "iopub.status.idle": "2024-10-09T01:38:28.963617Z",
          "shell.execute_reply.started": "2024-10-09T01:38:28.952784Z",
          "shell.execute_reply": "2024-10-09T01:38:28.962598Z"
        },
        "trusted": true,
        "outputId": "ab5d186a-7566-4f39-cffb-dbb08193c1d3"
      },
      "execution_count": null,
      "outputs": [
        {
          "name": "stdout",
          "text": "Train folder path: /kaggle/input/small-project-dataset/dataset/train\nTest folder path: /kaggle/input/small-project-dataset/dataset/test\nValidation folder path: /kaggle/input/small-project-dataset/dataset/val\n",
          "output_type": "stream"
        }
      ],
      "id": "487ad5d5-bea7-44e4-8a8c-8efec0c8d358"
    },
    {
      "cell_type": "markdown",
      "source": [
        "**Helper functions to pre-process the training data from raw Fbank features of each utterance.**\n",
        "\n",
        "The sample rate of speech is 16K (the number of samples per second is 16000)\n",
        "\n",
        "The input length for each utterance is different, cut them to 6s if larger than 6s, copy speech until 6s if less than 6s"
      ],
      "metadata": {
        "id": "m6Xdkof0HKPG"
      },
      "id": "m6Xdkof0HKPG"
    },
    {
      "cell_type": "code",
      "source": [
        "def pad_trunc_wav(x, max_len):\n",
        "    max_len = max_len * 16000  # Convert to number of samples\n",
        "\n",
        "    # Ensure consistent input length\n",
        "    if x.shape[1] < max_len:\n",
        "        # Pad with zeros if shorter\n",
        "        padding = max_len - x.shape[1]\n",
        "        x_new = torch.cat([x, torch.zeros(1, padding)], dim=1)  # Padding on the right\n",
        "    else:\n",
        "        # Truncate if longer\n",
        "        x_new = x[:, :max_len]\n",
        "\n",
        "    return x_new"
      ],
      "metadata": {
        "id": "2UgnXdCScdhZ",
        "execution": {
          "iopub.status.busy": "2024-10-08T23:51:21.005301Z",
          "iopub.execute_input": "2024-10-08T23:51:21.005979Z",
          "iopub.status.idle": "2024-10-08T23:51:21.012069Z",
          "shell.execute_reply.started": "2024-10-08T23:51:21.005942Z",
          "shell.execute_reply": "2024-10-08T23:51:21.011058Z"
        },
        "trusted": true
      },
      "execution_count": null,
      "outputs": [],
      "id": "2UgnXdCScdhZ"
    },
    {
      "cell_type": "code",
      "source": [
        "# Load TSV file\n",
        "label_df = pd.read_csv(TSV, sep='\\t')\n",
        "\n",
        "def load_audio_file(file_path):\n",
        "    try:\n",
        "        # Load a wav file using torchaudio\n",
        "        speech_array, sampling_rate = torchaudio.load(file_path)\n",
        "        if speech_array.size(1) == 0:  # If no samples are loaded\n",
        "            print(f\"Warning: {file_path} is empty or invalid.\")\n",
        "            return None, None  # Return None for invalid files\n",
        "        return speech_array.squeeze().numpy(), sampling_rate\n",
        "    except Exception as e:\n",
        "        print(f\"Error loading {file_path}: {e}\")\n",
        "        return None, None  # Return None for files that raise exceptions\n",
        "\n"
      ],
      "metadata": {
        "id": "INIYpklpci9g",
        "execution": {
          "iopub.status.busy": "2024-10-08T23:51:21.014135Z",
          "iopub.execute_input": "2024-10-08T23:51:21.015865Z",
          "iopub.status.idle": "2024-10-08T23:51:21.063305Z",
          "shell.execute_reply.started": "2024-10-08T23:51:21.015811Z",
          "shell.execute_reply": "2024-10-08T23:51:21.062487Z"
        },
        "trusted": true
      },
      "execution_count": null,
      "outputs": [],
      "id": "INIYpklpci9g"
    },
    {
      "cell_type": "markdown",
      "source": [
        "# Dataset + truncating + Padding"
      ],
      "metadata": {
        "id": "B2aoGKGtHOL4"
      },
      "id": "B2aoGKGtHOL4"
    },
    {
      "cell_type": "code",
      "source": [
        "def load_dataset(audio_folder, label_df):\n",
        "    data = []\n",
        "\n",
        "    for index, row in label_df.iterrows():\n",
        "        file_name = row[\"filename\"] + \".wav\"  # Ensure filename has .wav extension\n",
        "        label_str = row[\"label\"]  # Original string label from CSV\n",
        "        file_path = os.path.join(audio_folder, file_name)\n",
        "\n",
        "        # Check if the file exists and has a .wav extension\n",
        "        if os.path.exists(file_path) and file_path.endswith(\".wav\"):\n",
        "            speech, sampling_rate = load_audio_file(file_path)\n",
        "\n",
        "            # Apply the pad_trunc_wav function to ensure consistent audio length\n",
        "            speech = torch.tensor(speech).unsqueeze(0)  # Add batch dimension for padding\n",
        "            speech = pad_trunc_wav(speech, max_len=max_len).squeeze(0)  # Remove batch dimension after padding/truncating\n",
        "\n",
        "            # Map the string label to its numerical equivalent using the label mapping\n",
        "            if label_str in label_mapping:\n",
        "                label = label_mapping[label_str]\n",
        "            else:\n",
        "                raise ValueError(f\"Unknown label '{label_str}' encountered.\")\n",
        "\n",
        "            # Append the data dictionary\n",
        "            data.append({\"speech\": speech, \"sampling_rate\": sampling_rate, \"label\": label})\n",
        "\n",
        "    # Create the dataset from the loaded data\n",
        "    return Dataset.from_dict({\n",
        "        \"speech\": [d[\"speech\"] for d in data],\n",
        "        \"sampling_rate\": [d[\"sampling_rate\"] for d in data],\n",
        "        \"label\": [d[\"label\"] for d in data]\n",
        "    })\n",
        "\n",
        "# Load your dataset\n",
        "training = load_dataset(TRAIN, label_df)\n",
        "testing = load_dataset(TEST, label_df)\n",
        "validation = load_dataset(VAL, label_df)\n",
        "print(\"Total Files Loaded:\")\n",
        "print(f\"Training Total Amount: {len(training)}\")\n",
        "print(f\"Testing Total Amount: {len(testing)}\")\n",
        "print(f\"Validation Total Amount: {len(validation)}\")\n",
        "\n",
        "# Define a DatasetDict object\n",
        "emotion_dataset = DatasetDict({\n",
        "    \"train\": training,\n",
        "    \"test\": testing,\n",
        "    \"val\": validation\n",
        "})"
      ],
      "metadata": {
        "id": "O7qHOw-Vcq51",
        "execution": {
          "iopub.status.busy": "2024-10-08T23:51:21.064669Z",
          "iopub.execute_input": "2024-10-08T23:51:21.065021Z",
          "iopub.status.idle": "2024-10-08T23:54:04.158602Z",
          "shell.execute_reply.started": "2024-10-08T23:51:21.064983Z",
          "shell.execute_reply": "2024-10-08T23:54:04.157515Z"
        },
        "trusted": true,
        "outputId": "82c582fd-881b-4c3f-fb23-147eba44e5fb"
      },
      "execution_count": null,
      "outputs": [
        {
          "name": "stdout",
          "text": "Total Files Loaded:\nTraining Total Amount: 4446\nTesting Total Amount: 528\nValidation Total Amount: 557\n",
          "output_type": "stream"
        }
      ],
      "id": "O7qHOw-Vcq51"
    },
    {
      "cell_type": "markdown",
      "source": [
        "# Load Pretrained Model for Feature Extractor + Define the prerocess function\n",
        "Model we are using is Wav2Vec2 facebook baselin variant https://huggingface.co/docs/transformers/en/model_doc/wav2vec2 this is to ensure a fair training process and to fufill the no IEMOCAP pretuned criteria"
      ],
      "metadata": {
        "id": "3wJQ3AH6HT0E"
      },
      "id": "3wJQ3AH6HT0E"
    },
    {
      "cell_type": "code",
      "source": [
        "# Load the Wav2Vec2 feature extractor and model\n",
        "feature_extractor = Wav2Vec2FeatureExtractor.from_pretrained(\"facebook/wav2vec2-base\")\n",
        "model = Wav2Vec2ForSequenceClassification.from_pretrained(\n",
        "    \"facebook/wav2vec2-base\",\n",
        "    num_labels=4  # Adjust this to match the number of emotion classes in your dataset\n",
        ")\n",
        "\n",
        "# Preprocess the dataset\n",
        "def preprocess_function(examples):\n",
        "    # Ensure that the inputs are numpy arrays and float32 type\n",
        "    audio_inputs = [speech.astype(np.float32) for speech in examples[\"speech\"]]\n",
        "    # Use the feature extractor to process the audio inputs\n",
        "    inputs = feature_extractor(audio_inputs, sampling_rate=16000, return_tensors=\"pt\", padding=True)\n",
        "    inputs[\"label\"] = examples[\"label\"]  # Add labels to the inputs\n",
        "    return inputs\n"
      ],
      "metadata": {
        "id": "i7BLX9IJctSo",
        "execution": {
          "iopub.status.busy": "2024-10-08T23:54:04.160320Z",
          "iopub.execute_input": "2024-10-08T23:54:04.160683Z",
          "iopub.status.idle": "2024-10-08T23:54:06.798180Z",
          "shell.execute_reply.started": "2024-10-08T23:54:04.160644Z",
          "shell.execute_reply": "2024-10-08T23:54:06.797189Z"
        },
        "trusted": true,
        "outputId": "242ace50-ad6a-4fc9-ef37-1df311723550",
        "colab": {
          "referenced_widgets": [
            "32a843e442ff43aea8055cb5056c3e7b",
            "3a37096c971042938efdfe820c16865c",
            "34af90b8ed904ebe8ea2b5146356eff3"
          ]
        }
      },
      "execution_count": null,
      "outputs": [
        {
          "output_type": "display_data",
          "data": {
            "text/plain": "preprocessor_config.json:   0%|          | 0.00/159 [00:00<?, ?B/s]",
            "application/vnd.jupyter.widget-view+json": {
              "version_major": 2,
              "version_minor": 0,
              "model_id": "32a843e442ff43aea8055cb5056c3e7b"
            }
          },
          "metadata": {}
        },
        {
          "output_type": "display_data",
          "data": {
            "text/plain": "config.json:   0%|          | 0.00/1.84k [00:00<?, ?B/s]",
            "application/vnd.jupyter.widget-view+json": {
              "version_major": 2,
              "version_minor": 0,
              "model_id": "3a37096c971042938efdfe820c16865c"
            }
          },
          "metadata": {}
        },
        {
          "name": "stderr",
          "text": "/opt/conda/lib/python3.10/site-packages/transformers/configuration_utils.py:302: UserWarning: Passing `gradient_checkpointing` to a config initialization is deprecated and will be removed in v5 Transformers. Using `model.gradient_checkpointing_enable()` instead, or if you are using the `Trainer` API, pass `gradient_checkpointing=True` in your `TrainingArguments`.\n  warnings.warn(\n",
          "output_type": "stream"
        },
        {
          "output_type": "display_data",
          "data": {
            "text/plain": "pytorch_model.bin:   0%|          | 0.00/380M [00:00<?, ?B/s]",
            "application/vnd.jupyter.widget-view+json": {
              "version_major": 2,
              "version_minor": 0,
              "model_id": "34af90b8ed904ebe8ea2b5146356eff3"
            }
          },
          "metadata": {}
        },
        {
          "name": "stderr",
          "text": "Some weights of Wav2Vec2ForSequenceClassification were not initialized from the model checkpoint at facebook/wav2vec2-base and are newly initialized: ['classifier.bias', 'classifier.weight', 'projector.bias', 'projector.weight']\nYou should probably TRAIN this model on a down-stream task to be able to use it for predictions and inference.\n",
          "output_type": "stream"
        }
      ],
      "id": "i7BLX9IJctSo"
    },
    {
      "cell_type": "markdown",
      "source": [
        "# Load a Saved Processed Dataset or Start Training One\n",
        "\n",
        "Only start processing the dataset if you think there is going to be improvement to the training process later on. One is provided for you to save time.\n",
        "\n",
        "### Preprocessing a Dataset with a Feature Extractor before Training\n",
        "\n",
        "Preprocessing a dataset with a feature extractor before training is essential for several reasons, especially when working with audio, image, or text data. Here's why:\n",
        "\n",
        "#### 1. Normalization\n",
        "Feature extraction ensures that the input data is normalized to a standard format, which helps the model learn efficiently. For example, in audio processing, feature extractors like Wav2Vec2 convert raw waveforms into a consistent feature representation (e.g., mel spectrograms or embeddings).\n",
        "\n",
        "#### 2. Dimensionality Reduction\n",
        "Extracting key features reduces the dimensionality of the data, removing redundant or irrelevant information. This helps in making the training process more efficient by focusing on the most important patterns in the data.\n",
        "\n",
        "#### 3. Consistency\n",
        "Raw data like audio or text can vary significantly in length or format (e.g., different sampling rates, noise levels, or accents). Feature extraction standardizes the input, ensuring that the model receives consistent input across the dataset.\n",
        "\n",
        "#### 4. Improved Learning\n",
        "Models typically perform better when trained on features that highlight relevant patterns. For instance, in speech emotion recognition, feature extraction might focus on intonation, pitch, and pauses, which are more useful for emotion detection than raw audio.\n",
        "\n",
        "#### 5. Faster Convergence\n",
        "By transforming the raw data into a more compact and informative representation, feature extraction can help the model converge faster during training, reducing the computational cost.\n"
      ],
      "metadata": {
        "id": "WKoGMzHFHcxz"
      },
      "id": "WKoGMzHFHcxz"
    },
    {
      "cell_type": "code",
      "source": [
        "'''\n",
        "# Install gdown if not already installed\n",
        "!pip install gdown\n",
        "\n",
        "# Download the file from Google Drive\n",
        "import gdown\n",
        "\n",
        "# Google Drive file URL\n",
        "file_url = \"https://drive.google.com/uc?id=1QvTdLI6TAWIlot9gVw4eGgAQgdaqSQA3\"\n",
        "\n",
        "# Specify the output file name\n",
        "output = \"downloaded_file.zip\"\n",
        "\n",
        "# Download the file\n",
        "gdown.download(file_url, output, quiet=False)\n",
        "\n",
        "# Unzip the downloaded file\n",
        "import zipfile\n",
        "import os\n",
        "\n",
        "# Unzipping the file\n",
        "with zipfile.ZipFile(output, 'r') as zip_ref:\n",
        "    zip_ref.extractall(\"unzipped_files\")\n",
        "\n",
        "# List the extracted files\n",
        "os.listdir(\"unzipped_files\")\n",
        "\n",
        "# Remove the zip file\n",
        "import os\n",
        "os.remove(output)\n",
        "'''"
      ],
      "metadata": {
        "id": "t7G8HKvuYQL5"
      },
      "id": "t7G8HKvuYQL5",
      "execution_count": null,
      "outputs": []
    },
    {
      "cell_type": "code",
      "source": [
        "# Load or process the dataset\n",
        "LOAD = False # Set to true if you already have a processed_dataset one can be found in this link if you want to save time its from Azreen Gdrive https://drive.google.com/file/d/1QvTdLI6TAWIlot9gVw4eGgAQgdaqSQA3/view?usp=drive_link\n",
        "\n",
        "if LOAD:\n",
        "    from datasets import load_from_disk\n",
        "    emotion_dataset = load_from_disk('/kaggle/input/small-project-dataset/dataset/processed_dataset') #Change to Collab/Kaggle Directory\n",
        "    print(\"Processed dataset loaded\")\n",
        "else:\n",
        "    emotion_dataset = emotion_dataset.map(preprocess_function, batched=True)\n",
        "    emotion_dataset.save_to_disk('./processed_dataset') #Change to Collab/Kaggle Directory\n",
        "\n",
        "feature_extractor.save_pretrained(\"./wav2vec2-test\") #Change to Collab/Kaggle Directory\n",
        "\n",
        "def compute_metrics(pred):\n",
        "    labels = pred.label_ids\n",
        "    preds = np.argmax(pred.predictions, axis=1)\n",
        "    accuracy = np.mean(preds == labels)\n",
        "    return {\"accuracy\": accuracy}"
      ],
      "metadata": {
        "id": "WcVe-thucxeN",
        "execution": {
          "iopub.status.busy": "2024-10-08T23:54:06.802449Z",
          "iopub.execute_input": "2024-10-08T23:54:06.802874Z",
          "iopub.status.idle": "2024-10-08T23:54:06.980061Z",
          "shell.execute_reply.started": "2024-10-08T23:54:06.802834Z",
          "shell.execute_reply": "2024-10-08T23:54:06.979100Z"
        },
        "trusted": true,
        "outputId": "c92ec723-dfa4-43c9-db30-c8d12f60dcde"
      },
      "execution_count": null,
      "outputs": [
        {
          "name": "stdout",
          "text": "Processed dataset loaded\n",
          "output_type": "stream"
        }
      ],
      "id": "WcVe-thucxeN"
    },
    {
      "cell_type": "markdown",
      "source": [
        "# Declare Optimizer (Adam)\n"
      ],
      "metadata": {
        "id": "pwPDpkknIHiA"
      },
      "id": "pwPDpkknIHiA"
    },
    {
      "cell_type": "code",
      "source": [
        "from transformers import AdamW\n",
        "\n",
        "optimizer = AdamW(model.parameters(), lr=1e-5, weight_decay=0.1)"
      ],
      "metadata": {
        "execution": {
          "iopub.status.busy": "2024-10-09T01:45:42.141556Z",
          "iopub.execute_input": "2024-10-09T01:45:42.142379Z",
          "iopub.status.idle": "2024-10-09T01:45:42.152226Z",
          "shell.execute_reply.started": "2024-10-09T01:45:42.142314Z",
          "shell.execute_reply": "2024-10-09T01:45:42.151074Z"
        },
        "trusted": true,
        "id": "MSH1MjYHGdWG",
        "outputId": "4ad99f22-2d27-4d37-d820-7eef09546c3c"
      },
      "execution_count": null,
      "outputs": [
        {
          "name": "stderr",
          "text": "/opt/conda/lib/python3.10/site-packages/transformers/optimization.py:591: FutureWarning: This implementation of AdamW is deprecated and will be removed in a future version. Use the PyTorch implementation torch.optim.AdamW instead, or set `no_deprecation_warning=True` to disable this warning\n  warnings.warn(\n",
          "output_type": "stream"
        }
      ],
      "id": "MSH1MjYHGdWG"
    },
    {
      "cell_type": "markdown",
      "source": [
        "# Model Training"
      ],
      "metadata": {
        "id": "yH4rWLM0IOYt"
      },
      "id": "yH4rWLM0IOYt"
    },
    {
      "cell_type": "code",
      "source": [
        "# Define the early stopping callback\n",
        "early_stopping = EarlyStoppingCallback(early_stopping_patience=5)\n",
        "\n",
        "print(f\"Is CUDA available: {torch.cuda.is_available()}\")\n",
        "\n",
        "if torch.cuda.is_available():\n",
        "    model = model.to('cuda')\n",
        "    print(\"Model moved to GPU.\")\n",
        "\n",
        "training_args = TrainingArguments(\n",
        "    output_dir=\"./wav2vec2-test\",\n",
        "    eval_strategy=\"epoch\",\n",
        "    save_strategy=\"epoch\",\n",
        "    logging_strategy=\"epoch\",\n",
        "    weight_decay = 0.1,  # Regularization to prevent overfitting\n",
        "    gradient_accumulation_steps = 2,  # Simulates a larger batch size without increasing memory usage\n",
        "    warmup_steps = 100,  # Number of steps for learning rate warmup\n",
        "    learning_rate = 1e-5,\n",
        "    per_device_train_batch_size=32,\n",
        "    per_device_eval_batch_size=32,\n",
        "    logging_steps= 1,\n",
        "    num_train_epochs=epochs,\n",
        "    save_steps=10,\n",
        "    save_total_limit=2,\n",
        "    logging_dir=\"./logs\",\n",
        "    fp16=True,\n",
        "    dataloader_pin_memory=True,\n",
        "    load_best_model_at_end=True,\n",
        "    dataloader_num_workers=0,\n",
        "    report_to=\"none\"  # Add a unique name for this training run\n",
        ")\n",
        "\n",
        "# Initialize the Trainer\n",
        "trainer = Trainer(\n",
        "    model=model,\n",
        "    args=training_args,\n",
        "    train_dataset=emotion_dataset[\"train\"],\n",
        "    eval_dataset=emotion_dataset[\"val\"],\n",
        "    compute_metrics=compute_metrics,\n",
        "    optimizers=(optimizer, None),  # Pass the optimizer, scheduler can be None\n",
        "    callbacks=[early_stopping]\n",
        ")\n",
        "\n",
        "# Start training\n",
        "trainer.train()"
      ],
      "metadata": {
        "id": "nvugieZhc10h",
        "execution": {
          "iopub.status.busy": "2024-10-09T01:45:44.014476Z",
          "iopub.execute_input": "2024-10-09T01:45:44.014931Z",
          "iopub.status.idle": "2024-10-09T03:54:26.765727Z",
          "shell.execute_reply.started": "2024-10-09T01:45:44.014889Z",
          "shell.execute_reply": "2024-10-09T03:54:26.764692Z"
        },
        "trusted": true,
        "outputId": "384bf67b-ce5d-4fdb-e079-074513b868c7"
      },
      "execution_count": null,
      "outputs": [
        {
          "name": "stdout",
          "text": "Is CUDA available: True\nModel moved to GPU.\n",
          "output_type": "stream"
        },
        {
          "name": "stderr",
          "text": "/opt/conda/lib/python3.10/site-packages/accelerate/accelerator.py:494: FutureWarning: `torch.cuda.amp.GradScaler(args...)` is deprecated. Please use `torch.amp.GradScaler('cuda', args...)` instead.\n  self.scaler = torch.cuda.amp.GradScaler(**kwargs)\n",
          "output_type": "stream"
        },
        {
          "output_type": "display_data",
          "data": {
            "text/plain": "<IPython.core.display.HTML object>",
            "text/html": "\n    <div>\n      \n      <progress value='764' max='1035' style='width:300px; height:20px; vertical-align: middle;'></progress>\n      [ 764/1035 2:08:29 < 45:41, 0.10 it/s, Epoch 10/15]\n    </div>\n    <table border=\"1\" class=\"dataframe\">\n  <thead>\n <tr style=\"text-align: left;\">\n      <th>Epoch</th>\n      <th>Training Loss</th>\n      <th>Validation Loss</th>\n      <th>Accuracy</th>\n    </tr>\n  </thead>\n  <tbody>\n    <tr>\n      <td>0</td>\n      <td>1.028200</td>\n      <td>1.113257</td>\n      <td>0.495512</td>\n    </tr>\n    <tr>\n      <td>2</td>\n      <td>0.882500</td>\n      <td>0.975748</td>\n      <td>0.596050</td>\n    </tr>\n    <tr>\n      <td>4</td>\n      <td>0.730500</td>\n      <td>0.983623</td>\n      <td>0.621185</td>\n    </tr>\n    <tr>\n      <td>6</td>\n      <td>0.575800</td>\n      <td>0.994184</td>\n      <td>0.644524</td>\n    </tr>\n    <tr>\n      <td>8</td>\n      <td>0.466800</td>\n      <td>0.980187</td>\n      <td>0.658887</td>\n    </tr>\n    <tr>\n      <td>10</td>\n      <td>0.376300</td>\n      <td>1.074139</td>\n      <td>0.653501</td>\n    </tr>\n  </tbody>\n</table><p>"
          },
          "metadata": {}
        },
        {
          "execution_count": 50,
          "output_type": "execute_result",
          "data": {
            "text/plain": "TrainOutput(global_step=764, training_loss=0.6690670133261156, metrics={'train_runtime': 7722.171, 'train_samples_per_second': 8.636, 'train_steps_per_second': 0.134, 'total_flos': 2.664012126657024e+18, 'train_loss': 0.6690670133261156, 'epoch': 10.992805755395683})"
          },
          "metadata": {}
        }
      ],
      "id": "nvugieZhc10h"
    },
    {
      "cell_type": "markdown",
      "source": [
        "# Evaluate Metrics"
      ],
      "metadata": {
        "id": "N--GRF1jIQO8"
      },
      "id": "N--GRF1jIQO8"
    },
    {
      "cell_type": "code",
      "source": [
        "# Evaluate the model\n",
        "metrics = trainer.evaluate()\n",
        "print(metrics)"
      ],
      "metadata": {
        "id": "g8C4hhiWdEq_",
        "execution": {
          "iopub.status.busy": "2024-10-09T04:08:22.094465Z",
          "iopub.execute_input": "2024-10-09T04:08:22.095602Z",
          "iopub.status.idle": "2024-10-09T04:09:18.748527Z",
          "shell.execute_reply.started": "2024-10-09T04:08:22.095542Z",
          "shell.execute_reply": "2024-10-09T04:09:18.747575Z"
        },
        "trusted": true,
        "outputId": "f2d1d507-6e51-4269-fa47-41fc2fe02d59"
      },
      "execution_count": null,
      "outputs": [
        {
          "output_type": "display_data",
          "data": {
            "text/plain": "<IPython.core.display.HTML object>",
            "text/html": "\n    <div>\n      \n      <progress value='18' max='18' style='width:300px; height:20px; vertical-align: middle;'></progress>\n      [18/18 00:50]\n    </div>\n    "
          },
          "metadata": {}
        },
        {
          "name": "stdout",
          "text": "{'eval_loss': 0.9421173930168152, 'eval_accuracy': 0.6481149012567325, 'eval_runtime': 56.6437, 'eval_samples_per_second': 9.833, 'eval_steps_per_second': 0.318, 'epoch': 10.992805755395683}\n",
          "output_type": "stream"
        }
      ],
      "id": "g8C4hhiWdEq_"
    },
    {
      "cell_type": "code",
      "source": [
        "# Save the model\n",
        "model_save_path = \"/kaggle/working/wav2vec2-emotion-model\" # Change filepath\n",
        "model.save_pretrained(model_save_path)\n",
        "\n",
        "# Save the feature extractor\n",
        "feature_extractor.save_pretrained(model_save_path)\n",
        "\n",
        "print(f\"Model and feature extractor saved to {model_save_path}\")"
      ],
      "metadata": {
        "id": "aBsQX1M7roG5",
        "execution": {
          "iopub.status.busy": "2024-10-09T04:09:37.535576Z",
          "iopub.execute_input": "2024-10-09T04:09:37.536091Z",
          "iopub.status.idle": "2024-10-09T04:09:38.255007Z",
          "shell.execute_reply.started": "2024-10-09T04:09:37.536049Z",
          "shell.execute_reply": "2024-10-09T04:09:38.253686Z"
        },
        "trusted": true,
        "outputId": "f3fbba69-50d4-49b6-ae42-0a3730a17934"
      },
      "execution_count": null,
      "outputs": [
        {
          "name": "stdout",
          "text": "Model and feature extractor saved to /kaggle/working/wav2vec2-emotion-model\n",
          "output_type": "stream"
        }
      ],
      "id": "aBsQX1M7roG5"
    },
    {
      "cell_type": "markdown",
      "source": [
        "# Visulazation for better analysis\n",
        "\n",
        "## Plot Training and Validation Loss per Epoch"
      ],
      "metadata": {
        "id": "MbvkAEOuIXEX"
      },
      "id": "MbvkAEOuIXEX"
    },
    {
      "cell_type": "code",
      "source": [
        "# Extract log history\n",
        "log_history = trainer.state.log_history\n",
        "\n",
        "# Extract training and validation loss per epoch\n",
        "training_loss = []\n",
        "validation_loss = []\n",
        "epochs_logged = []\n",
        "\n",
        "for log in log_history:\n",
        "    if \"loss\" in log:  # Training loss\n",
        "        training_loss.append(log[\"loss\"])\n",
        "        epochs_logged.append(log[\"epoch\"])\n",
        "    if \"eval_loss\" in log:  # Validation loss\n",
        "        validation_loss.append(log[\"eval_loss\"])\n"
      ],
      "metadata": {
        "execution": {
          "iopub.status.busy": "2024-10-09T04:09:40.187134Z",
          "iopub.execute_input": "2024-10-09T04:09:40.187839Z",
          "iopub.status.idle": "2024-10-09T04:09:40.193777Z",
          "shell.execute_reply.started": "2024-10-09T04:09:40.187793Z",
          "shell.execute_reply": "2024-10-09T04:09:40.192813Z"
        },
        "trusted": true,
        "id": "FKzFV75FGdWH"
      },
      "execution_count": null,
      "outputs": [],
      "id": "FKzFV75FGdWH"
    },
    {
      "cell_type": "code",
      "source": [
        "print(f\"Validation Loss: {len(validation_loss)}\")\n",
        "print(f\"Loss log: {len(training_loss)}\")\n",
        "print(f\"Epochs Logged: {len(epochs_logged)}\")"
      ],
      "metadata": {
        "execution": {
          "iopub.status.busy": "2024-10-09T04:09:43.776801Z",
          "iopub.execute_input": "2024-10-09T04:09:43.777250Z",
          "iopub.status.idle": "2024-10-09T04:09:43.783113Z",
          "shell.execute_reply.started": "2024-10-09T04:09:43.777207Z",
          "shell.execute_reply": "2024-10-09T04:09:43.782112Z"
        },
        "trusted": true,
        "id": "tjaWXjpdGdWH",
        "outputId": "5e8f102a-bc49-472f-f9a8-f36b25554d6c"
      },
      "execution_count": null,
      "outputs": [
        {
          "name": "stdout",
          "text": "Validation Loss: 12\nLoss log: 11\nEpochs Logged: 11\n",
          "output_type": "stream"
        }
      ],
      "id": "tjaWXjpdGdWH"
    },
    {
      "cell_type": "code",
      "source": [
        "print(f\"Validation Loss: {validation_loss}\")\n",
        "print(f\"Loss log: {training_loss}\")\n",
        "print(f\"Epochs Logged: {epochs_logged}\")"
      ],
      "metadata": {
        "execution": {
          "iopub.status.busy": "2024-10-09T04:09:45.934759Z",
          "iopub.execute_input": "2024-10-09T04:09:45.935161Z",
          "iopub.status.idle": "2024-10-09T04:09:45.940618Z",
          "shell.execute_reply.started": "2024-10-09T04:09:45.935122Z",
          "shell.execute_reply": "2024-10-09T04:09:45.939491Z"
        },
        "trusted": true,
        "id": "WUflhHa6GdWH",
        "outputId": "812d0f66-3f9f-44be-9951-09b7a39f4eec"
      },
      "execution_count": null,
      "outputs": [
        {
          "name": "stdout",
          "text": "Validation Loss: [1.1132571697235107, 1.0548527240753174, 0.9757477045059204, 0.9611093401908875, 0.9836232662200928, 0.9421173930168152, 0.9941842555999756, 1.0552035570144653, 0.9801869988441467, 1.0427708625793457, 1.0741393566131592, 0.9421173930168152]\nLoss log: [1.0282, 0.9626, 0.8825, 0.7939, 0.7305, 0.6373, 0.5758, 0.4996, 0.4668, 0.4068, 0.3763]\nEpochs Logged: [0.9928057553956835, 2.0, 2.9928057553956835, 4.0, 4.9928057553956835, 6.0, 6.9928057553956835, 8.0, 8.992805755395683, 10.0, 10.992805755395683]\n",
          "output_type": "stream"
        }
      ],
      "id": "WUflhHa6GdWH"
    },
    {
      "cell_type": "code",
      "source": [
        "import matplotlib.pyplot as plt\n",
        "\n",
        "# Ensure validation loss is padded to match length of training loss (if necessary)\n",
        "if len(validation_loss) < len(training_loss):\n",
        "    validation_loss += [validation_loss[-1]] * (len(training_loss) - len(validation_loss))\n",
        "if len(validation_loss) > len(training_loss):\n",
        "    validation_loss.pop()\n",
        "# Plot training and validation loss\n",
        "\n",
        "plt.figure(figsize=(10, 6))\n",
        "plt.plot(epochs_logged, training_loss, label=\"Training Loss\")\n",
        "plt.plot(epochs_logged, validation_loss, label=\"Validation Loss\")\n",
        "plt.xlabel(\"Epoch\")\n",
        "plt.ylabel(\"Loss\")\n",
        "plt.title(\"Training and Validation Loss per Epoch\")\n",
        "plt.legend()\n",
        "plt.grid(True)\n",
        "plt.show()\n"
      ],
      "metadata": {
        "execution": {
          "iopub.status.busy": "2024-10-09T04:09:50.489464Z",
          "iopub.execute_input": "2024-10-09T04:09:50.490369Z",
          "iopub.status.idle": "2024-10-09T04:09:50.829189Z",
          "shell.execute_reply.started": "2024-10-09T04:09:50.490324Z",
          "shell.execute_reply": "2024-10-09T04:09:50.828149Z"
        },
        "trusted": true,
        "id": "neZhhKEpGdWH",
        "outputId": "b60606c5-61fa-496a-9b99-f018567b7b30"
      },
      "execution_count": null,
      "outputs": [
        {
          "output_type": "display_data",
          "data": {
            "text/plain": "<Figure size 1000x600 with 1 Axes>",
            "image/png": "[encoded data removed]"
          },
          "metadata": {}
        }
      ],
      "id": "neZhhKEpGdWH"
    },
    {
      "cell_type": "markdown",
      "source": [
        "# Save the Model and zipped it for download for future use"
      ],
      "metadata": {
        "id": "YvF8UFvuIj_Z"
      },
      "id": "YvF8UFvuIj_Z"
    },
    {
      "cell_type": "code",
      "source": [
        "import shutil\n",
        "from IPython.display import FileLink\n",
        "\n",
        "# 圧縮するフォルダと出力するZIPファイル名\n",
        "model_save_path = '/kaggle/working/wav2vec2-emotion-model'\n",
        "zip_file_path = '/kaggle/working/wav2vec2-emotion-model.zip'\n",
        "\n",
        "# フォルダをZIPファイルに圧縮\n",
        "shutil.make_archive(zip_file_path.replace('.zip', ''), 'zip', model_save_path)\n",
        "\n",
        "# ZIPファイルへのリンクを表示\n",
        "FileLink(zip_file_path)"
      ],
      "metadata": {
        "execution": {
          "iopub.status.busy": "2024-10-09T04:09:55.295959Z",
          "iopub.execute_input": "2024-10-09T04:09:55.296740Z",
          "iopub.status.idle": "2024-10-09T04:10:17.367538Z",
          "shell.execute_reply.started": "2024-10-09T04:09:55.296675Z",
          "shell.execute_reply": "2024-10-09T04:10:17.366495Z"
        },
        "trusted": true,
        "id": "dKDj_ghmGdWH",
        "outputId": "a519034c-25cf-4973-a66f-35f475e9bafc"
      },
      "execution_count": null,
      "outputs": [
        {
          "execution_count": 57,
          "output_type": "execute_result",
          "data": {
            "text/plain": "/kaggle/working/wav2vec2-emotion-model.zip",
            "text/html": "<a href='/kaggle/working/wav2vec2-emotion-model.zip' target='_blank'>/kaggle/working/wav2vec2-emotion-model.zip</a><br>"
          },
          "metadata": {}
        }
      ],
      "id": "dKDj_ghmGdWH"
    },
    {
      "cell_type": "markdown",
      "source": [
        "# Inference Phase\n",
        "\n",
        "You only need to run this part if you altrady have finished training the model or have one downloaded. The code is setup in a way that  that you can drag and drop your model of choice to predict. So while we settled on wav2vec2 you can change it and we will show where and how you need to tweak it for that to happen."
      ],
      "metadata": {
        "id": "3oin8qAPggTe"
      },
      "id": "3oin8qAPggTe"
    },
    {
      "cell_type": "code",
      "source": [
        "from transformers import AutoFeatureExtractor, AutoModelForAudioClassification\n",
        "from transformers import Wav2Vec2ForSequenceClassification, Wav2Vec2FeatureExtractor\n",
        "import glob\n",
        "import csv"
      ],
      "metadata": {
        "id": "c49zYa1WuwJU",
        "execution": {
          "iopub.status.busy": "2024-10-09T04:10:23.167854Z",
          "iopub.execute_input": "2024-10-09T04:10:23.168261Z",
          "iopub.status.idle": "2024-10-09T04:10:23.173469Z",
          "shell.execute_reply.started": "2024-10-09T04:10:23.168220Z",
          "shell.execute_reply": "2024-10-09T04:10:23.172287Z"
        },
        "trusted": true
      },
      "execution_count": null,
      "outputs": [],
      "id": "c49zYa1WuwJU"
    },
    {
      "cell_type": "code",
      "source": [
        "# Specify the path to your test folder\n",
        "target_sampling_rate = 16000\n",
        "test_folder_path = r'/kaggle/input/small-project-dataset/dataset/test' #Change to Collab/Kaggle Directory"
      ],
      "metadata": {
        "id": "CzP5YcTauyQU",
        "execution": {
          "iopub.status.busy": "2024-10-09T04:10:25.303603Z",
          "iopub.execute_input": "2024-10-09T04:10:25.304008Z",
          "iopub.status.idle": "2024-10-09T04:10:25.308920Z",
          "shell.execute_reply.started": "2024-10-09T04:10:25.303968Z",
          "shell.execute_reply": "2024-10-09T04:10:25.307678Z"
        },
        "trusted": true
      },
      "execution_count": null,
      "outputs": [],
      "id": "CzP5YcTauyQU"
    },
    {
      "cell_type": "markdown",
      "source": [
        "# Load Feature Extractor\n",
        "## Aditionally take note of the Labels for remapping\n"
      ],
      "metadata": {
        "id": "E_-JGcdwIvAC"
      },
      "id": "E_-JGcdwIvAC"
    },
    {
      "cell_type": "code",
      "source": [
        "# Load saved model\n",
        "# Path where the model and feature extractor are saved\n",
        "model_save_path = \"/kaggle/working/wav2vec2-emotion-model\" #Change to Collab/Kaggle Directory\n",
        "\n",
        "# Load the model\n",
        "model = Wav2Vec2ForSequenceClassification.from_pretrained(model_save_path)\n",
        "\n",
        "# Load the feature extractor\n",
        "feature_extractor = Wav2Vec2FeatureExtractor.from_pretrained('facebook/wav2vec2-base-960h')\n",
        "\n",
        "print(\"Model and feature extractor loaded successfully!\")\n",
        "print(f\"Model Labels:  {model.config.id2label}\")\n",
        "print(\"Wanted Labels: {0: 'ang', 1: 'hap', 2: 'neu', 3: 'sad'}\")"
      ],
      "metadata": {
        "id": "JTdFs-tyu0Gc",
        "execution": {
          "iopub.status.busy": "2024-10-09T04:10:27.281713Z",
          "iopub.execute_input": "2024-10-09T04:10:27.282131Z",
          "iopub.status.idle": "2024-10-09T04:10:27.516531Z",
          "shell.execute_reply.started": "2024-10-09T04:10:27.282092Z",
          "shell.execute_reply": "2024-10-09T04:10:27.515404Z"
        },
        "trusted": true,
        "outputId": "6e6df5be-28fc-4d90-c866-4838bce61ca9"
      },
      "execution_count": null,
      "outputs": [
        {
          "name": "stdout",
          "text": "Model and feature extractor loaded successfully!\nModel Labels:  {0: 'LABEL_0', 1: 'LABEL_1', 2: 'LABEL_2', 3: 'LABEL_3'}\nWanted Labels: {0: 'ang', 1: 'hap', 2: 'neu', 3: 'sad'}\n",
          "output_type": "stream"
        }
      ],
      "id": "JTdFs-tyu0Gc"
    },
    {
      "cell_type": "markdown",
      "source": [
        "# Define the Prediction Function"
      ],
      "metadata": {
        "id": "-cNGwms9I-ON"
      },
      "id": "-cNGwms9I-ON"
    },
    {
      "cell_type": "code",
      "source": [
        "def predict(test_folder_path, output_csv='prediction.csv'):\n",
        "\n",
        "    # Get a list of all .wav files in the test folder\n",
        "    audio_files = glob.glob(os.path.join(test_folder_path, '*.wav'))\n",
        "\n",
        "    # Prepare a list to hold the results\n",
        "    results = []\n",
        "    count = 1\n",
        "\n",
        "\n",
        "    # Iterate over each audio file in the test folder\n",
        "    for audio_file in audio_files:\n",
        "\n",
        "        print(f'File: {count}', end='\\r')\n",
        "        count += 1\n",
        "\n",
        "        # Load the audio file\n",
        "        y_ini, sr_ini = librosa.load(audio_file, sr=target_sampling_rate)\n",
        "\n",
        "        # Extract features from the audio\n",
        "        inputs = feature_extractor(y_ini, sampling_rate=target_sampling_rate, return_tensors=\"pt\")\n",
        "\n",
        "        # Get the logits from the model\n",
        "        with torch.no_grad():\n",
        "            logits = model(**inputs).logits\n",
        "\n",
        "        # Predict the class with the highest logit value\n",
        "        predicted_class_id = torch.argmax(logits).item()\n",
        "\n",
        "        # Extract the filename without the extension\n",
        "        filename = os.path.splitext(os.path.basename(audio_file))[0]\n",
        "\n",
        "        # Append the result to the list\n",
        "        results.append([filename, predicted_class_id])\n",
        "\n",
        "    # Write the results to a CSV file\n",
        "    with open(output_csv, 'w', newline='') as csvfile:\n",
        "        writer = csv.writer(csvfile)\n",
        "        # Write header\n",
        "        writer.writerow(['ID', 'Predict'])\n",
        "        # Write data\n",
        "        writer.writerows(results)\n",
        "\n",
        "    print(f\"Predictions saved to {output_csv}\")"
      ],
      "metadata": {
        "id": "AtxMTb8G0VBT",
        "execution": {
          "iopub.status.busy": "2024-10-09T04:10:30.443551Z",
          "iopub.execute_input": "2024-10-09T04:10:30.444280Z",
          "iopub.status.idle": "2024-10-09T04:10:30.454619Z",
          "shell.execute_reply.started": "2024-10-09T04:10:30.444237Z",
          "shell.execute_reply": "2024-10-09T04:10:30.453471Z"
        },
        "trusted": true
      },
      "execution_count": null,
      "outputs": [],
      "id": "AtxMTb8G0VBT"
    },
    {
      "cell_type": "code",
      "source": [
        "import librosa"
      ],
      "metadata": {
        "execution": {
          "iopub.status.busy": "2024-10-09T04:10:36.197390Z",
          "iopub.execute_input": "2024-10-09T04:10:36.198289Z",
          "iopub.status.idle": "2024-10-09T04:10:36.202404Z",
          "shell.execute_reply.started": "2024-10-09T04:10:36.198246Z",
          "shell.execute_reply": "2024-10-09T04:10:36.201235Z"
        },
        "trusted": true,
        "id": "wCT2ZAPmGdWI"
      },
      "execution_count": null,
      "outputs": [],
      "id": "wCT2ZAPmGdWI"
    },
    {
      "cell_type": "markdown",
      "source": [
        "# Run the prediction"
      ],
      "metadata": {
        "id": "G62dU33IJImo"
      },
      "id": "G62dU33IJImo"
    },
    {
      "cell_type": "code",
      "source": [
        "predict(test_folder_path)"
      ],
      "metadata": {
        "id": "UAmBSMvO0WbT",
        "execution": {
          "iopub.status.busy": "2024-10-09T04:10:44.125020Z",
          "iopub.execute_input": "2024-10-09T04:10:44.125797Z",
          "iopub.status.idle": "2024-10-09T04:14:36.135703Z",
          "shell.execute_reply.started": "2024-10-09T04:10:44.125720Z",
          "shell.execute_reply": "2024-10-09T04:14:36.134666Z"
        },
        "trusted": true,
        "outputId": "8f87472b-722c-40f9-ef81-588b57bdc128"
      },
      "execution_count": null,
      "outputs": [
        {
          "name": "stdout",
          "text": "Predictions saved to prediction.csv\n",
          "output_type": "stream"
        }
      ],
      "id": "UAmBSMvO0WbT"
    },
    {
      "cell_type": "code",
      "source": [
        "import pandas as pd\n",
        "import numpy as np\n",
        "import torch\n",
        "from sklearn.metrics import confusion_matrix, classification_report, recall_score, accuracy_score\n",
        "import matplotlib.pyplot as plt\n",
        "import seaborn as sns"
      ],
      "metadata": {
        "id": "UZfYSJeC0aOW",
        "execution": {
          "iopub.status.busy": "2024-10-09T04:14:38.724697Z",
          "iopub.execute_input": "2024-10-09T04:14:38.725689Z",
          "iopub.status.idle": "2024-10-09T04:14:38.731066Z",
          "shell.execute_reply.started": "2024-10-09T04:14:38.725641Z",
          "shell.execute_reply": "2024-10-09T04:14:38.729815Z"
        },
        "trusted": true
      },
      "execution_count": null,
      "outputs": [],
      "id": "UZfYSJeC0aOW"
    },
    {
      "cell_type": "markdown",
      "source": [
        "# Declare the confusion matrix"
      ],
      "metadata": {
        "id": "Dg3_UnsVJPOL"
      },
      "id": "Dg3_UnsVJPOL"
    },
    {
      "cell_type": "code",
      "source": [
        "def show_confusion_matrix(file1, file2, save):\n",
        "\n",
        "    # Read the TSV files\n",
        "    df1 = pd.read_csv(file1, sep='\\t')\n",
        "    df2 = pd.read_csv(file2)\n",
        "\n",
        "    # Remap predictions before reading as every model have their own label name but since we trained it before hand to handle the label this is for analysis purpose\n",
        "    '''\n",
        "    (N)eutral Mapped to: 2\n",
        "    (H)appy Mapped to: 1\n",
        "    (S)ad Mapped to: 3\n",
        "    (A)ngry Mapped to: 0\n",
        "    '''\n",
        "\n",
        "    # Define a remapping dictionary\n",
        "    remap_dict = {\n",
        "        0: 'A',\n",
        "        1: 'H',\n",
        "        2: 'N',\n",
        "        3: 'S'\n",
        "    }\n",
        "\n",
        "    # Apply the remap function to the 'Predict' column\n",
        "    df2['Predict'] = df2['Predict'].map(remap_dict)\n",
        "\n",
        "    # Merge DataFrames on 'filename'\n",
        "    df_merged = pd.merge(df1[['filename', 'label']],df2[['ID', 'Predict']],left_on='filename',right_on='ID')\n",
        "\n",
        "    # Extract true labels and predictions\n",
        "    y_true = df_merged['label']\n",
        "    y_pred = df_merged['Predict']\n",
        "\n",
        "    # Compute the confusion matrix\n",
        "    cm = confusion_matrix(y_true, y_pred)\n",
        "\n",
        "    # Create a DataFrame for the confusion matrix\n",
        "    labels = sorted(y_true.unique())\n",
        "    cm_df = pd.DataFrame(cm, index=labels, columns=labels)\n",
        "\n",
        "    # Plot the confusion matrix\n",
        "    plt.figure(figsize=(8, 6))\n",
        "    sns.heatmap(cm_df, annot=True, fmt='d', cmap='Blues')\n",
        "    plt.ylabel('Actual Labels')\n",
        "    plt.xlabel('Predicted Labels')\n",
        "    plt.title('Confusion Matrix')\n",
        "    plt.show()\n",
        "\n",
        "    # Compute and print accuracy\n",
        "    accuracy = accuracy_score(y_true, y_pred)\n",
        "    print(f\"Accuracy: {accuracy}\")\n",
        "\n",
        "    # Compute and print UA score\n",
        "    macro_recall = recall_score(y_true, y_pred, average='macro')\n",
        "    print(f\"test UA: {macro_recall}\")\n",
        "\n",
        "    # Print the confusion matrix\n",
        "    #print(\"Confusion Matrix:\")\n",
        "    #print(cm_df)\n",
        "\n",
        "    # Compute and print classification report\n",
        "    report = classification_report(y_true, y_pred, labels=labels)\n",
        "    print(\"\\nClassification Report:\")\n",
        "    print(report)\n",
        "\n",
        "\n",
        "    if save:\n",
        "        # Save the updated dataframe back to a CSV file\n",
        "        df_merged.to_csv('prediction_results.csv', index=False)\n",
        "        print(\"Saved\")\n"
      ],
      "metadata": {
        "id": "bqzNl4cV0bQr",
        "execution": {
          "iopub.status.busy": "2024-10-09T04:14:41.085569Z",
          "iopub.execute_input": "2024-10-09T04:14:41.085975Z",
          "iopub.status.idle": "2024-10-09T04:14:41.097718Z",
          "shell.execute_reply.started": "2024-10-09T04:14:41.085936Z",
          "shell.execute_reply": "2024-10-09T04:14:41.096652Z"
        },
        "trusted": true
      },
      "execution_count": null,
      "outputs": [],
      "id": "bqzNl4cV0bQr"
    },
    {
      "cell_type": "markdown",
      "source": [
        "# Load the tsv and the prediction.csv"
      ],
      "metadata": {
        "id": "lB0Hm7RiJSTo"
      },
      "id": "lB0Hm7RiJSTo"
    },
    {
      "cell_type": "code",
      "source": [
        "tsv_file = r'/kaggle/input/small-project-dataset/dataset/IEMOCAP_4.tsv'  #Change to Collab/Kaggle Directory\n",
        "\n",
        "# For Validation of code\n",
        "predictions = [\n",
        "   '/kaggle/working/prediction.csv', #Change to Collab/Kaggle Directory\n",
        "]\n"
      ],
      "metadata": {
        "id": "4ZAtsBhM0cSa",
        "execution": {
          "iopub.status.busy": "2024-10-09T04:14:43.481874Z",
          "iopub.execute_input": "2024-10-09T04:14:43.482283Z",
          "iopub.status.idle": "2024-10-09T04:14:43.486968Z",
          "shell.execute_reply.started": "2024-10-09T04:14:43.482243Z",
          "shell.execute_reply": "2024-10-09T04:14:43.485879Z"
        },
        "trusted": true
      },
      "execution_count": null,
      "outputs": [],
      "id": "4ZAtsBhM0cSa"
    },
    {
      "cell_type": "markdown",
      "source": [
        "# Display the confusion matrix for additional insight"
      ],
      "metadata": {
        "id": "O-TcbAPHJWQh"
      },
      "id": "O-TcbAPHJWQh"
    },
    {
      "cell_type": "code",
      "source": [
        "for prediction in reversed(predictions):\n",
        "    print(f\"FILEPATH: {prediction}\")\n",
        "    show_confusion_matrix(tsv_file, prediction, False)"
      ],
      "metadata": {
        "id": "bkkSsZic0dX6",
        "execution": {
          "iopub.status.busy": "2024-10-09T04:14:45.375220Z",
          "iopub.execute_input": "2024-10-09T04:14:45.376239Z",
          "iopub.status.idle": "2024-10-09T04:14:45.780751Z",
          "shell.execute_reply.started": "2024-10-09T04:14:45.376196Z",
          "shell.execute_reply": "2024-10-09T04:14:45.779613Z"
        },
        "trusted": true,
        "outputId": "3bdee934-14d9-4bfb-e439-44c6c67dcb75"
      },
      "execution_count": null,
      "outputs": [
        {
          "name": "stdout",
          "text": "FILEPATH: /kaggle/working/prediction.csv\n",
          "output_type": "stream"
        },
        {
          "output_type": "display_data",
          "data": {
            "text/plain": "<Figure size 800x600 with 2 Axes>",
            "image/png": "[encoded data removed]"
          },
          "metadata": {}
        },
        {
          "name": "stdout",
          "text": "Accuracy: 0.6818181818181818\ntest UA: 0.6881392417106703\n\nClassification Report:\n              precision    recall  f1-score   support\n\n           A       0.93      0.72      0.81       147\n           H       0.76      0.62      0.68       132\n           N       0.57      0.67      0.61       171\n           S       0.55      0.74      0.63        78\n\n    accuracy                           0.68       528\n   macro avg       0.70      0.69      0.69       528\nweighted avg       0.71      0.68      0.69       528\n\n",
          "output_type": "stream"
        }
      ],
      "id": "bkkSsZic0dX6"
    },
    {
      "cell_type": "markdown",
      "source": [
        "# Previous Attempts and Methods"
      ],
      "metadata": {
        "id": "I_I3rxN9JaaR"
      },
      "id": "I_I3rxN9JaaR"
    },
    {
      "cell_type": "markdown",
      "source": [
        "# Orginial Model before pretrained\n",
        "###Simplified version from \"3-D Convolutional Recurrent Neural Networks With Attention Model for Speech Emotion Recognition\"\n",
        "\n",
        "![altertext](https://drive.google.com/uc?id=1bHrsMSjWKf1XgmCshPrSU81fVSsNhfP4)\n",
        "\n",
        "[Paper link](https://ieeexplore.ieee.org/stamp/stamp.jsp?arnumber=8421023&casa_token=AGqWGVSS5lAAAAAA:cM6X58aNcHVZmsVC1r_ZxawguzlzMHMhxZzsLdxdYf7ogidcBmUmMHhgwKH6H33TGBGRXV1XUQYo0A&tag=1)\n",
        "\n",
        "[Github link](https://github.com/xuanjihe/speech-emotion-recognition/tree/master)"
      ],
      "metadata": {
        "id": "yqEADvpLHDtu"
      },
      "id": "yqEADvpLHDtu"
    },
    {
      "cell_type": "code",
      "source": [
        "'''\n",
        "Orignial Model (before pretrained)\n",
        "# Import necessary libraries\n",
        "import warnings\n",
        "warnings.filterwarnings('ignore')\n",
        "\n",
        "import os\n",
        "import numpy as np\n",
        "import pandas as pd\n",
        "import soundfile as sound\n",
        "import datetime\n",
        "import sys, subprocess\n",
        "import math\n",
        "import random\n",
        "import librosa\n",
        "import matplotlib.pyplot as plt\n",
        "\n",
        "import torch\n",
        "import torch.nn as nn\n",
        "import torch.nn.functional as F\n",
        "import torch.optim as optim\n",
        "from torch.optim.lr_scheduler import StepLR, ExponentialLR, CosineAnnealingLR\n",
        "import torchaudio\n",
        "from torch.utils.data import Dataset, DataLoader\n",
        "from torchvision import transforms, utils\n",
        "from torch.nn.utils.rnn import pad_sequence, pack_padded_sequence, pad_packed_sequence\n",
        "from tqdm import tqdm\n",
        "import logging\n",
        "import time\n",
        "\n",
        "from sklearn.metrics import confusion_matrix, classification_report, recall_score\n",
        "from torch.optim.lr_scheduler import ReduceLROnPlateau\n",
        "from torchaudio import functional as audioF\n",
        "from torchaudio.compliance import kaldi\n",
        "\n",
        "def setup_seed(seed=2021):\n",
        "    torch.manual_seed(seed)\n",
        "    torch.cuda.manual_seed(seed)\n",
        "    torch.cuda.manual_seed_all(seed)\n",
        "    np.random.seed(seed)\n",
        "    random.seed(seed)\n",
        "    torch.backends.cudnn.benchmark = False\n",
        "    torch.backends.cudnn.deterministic = True\n",
        "\n",
        "class Pad_trunc_wav(nn.Module):\n",
        "    def __init__(self, max_len: int = 6*16000):\n",
        "        super(Pad_trunc_wav, self).__init__()\n",
        "        self.max_len = max_len\n",
        "    def forward(self,x):\n",
        "        shape = x.shape\n",
        "        length = shape[1]\n",
        "        if length < self.max_len:\n",
        "            multiple = self.max_len//length+1\n",
        "            x_tmp = torch.cat((x,)*multiple, axis=1)\n",
        "            x_new = x_tmp[:,0:self.max_len]\n",
        "        else:\n",
        "            x_new = x[:,0:self.max_len]\n",
        "        return x_new\n",
        "\n",
        "class Deltas_Deltas_FBank(nn.Module):\n",
        "    #(…, freq, time)\n",
        "    def __init__(self):\n",
        "        super(Deltas_Deltas_FBank, self).__init__()\n",
        "    def forward(self,x):\n",
        "        # x: time*freq\n",
        "        x = x.permute(1,0).unsqueeze(0)\n",
        "        delta = audioF.compute_deltas(x)\n",
        "        delta2 = audioF.compute_deltas(delta)\n",
        "        x_out = torch.cat((x,delta,delta2), 0).permute(0,2,1)\n",
        "        # x_out: 3*freq*time -> 3*time*freq\n",
        "        return x_out\n",
        "\n",
        "!pip install audiomentations\n",
        "\n",
        "from audiomentations import Compose, AddGaussianNoise, PitchShift, TimeStretch, ClippingDistortion, Gain\n",
        "# Define a composite augmentation object with multiple augmentations applied sequentially\n",
        "augment = Compose([\n",
        "    # This augmentation adds Gaussian noise to the audio signal.\n",
        "    AddGaussianNoise(min_amplitude=0.001, max_amplitude=0.015, p=0.5),\n",
        "\n",
        "    # This augmentation changes the pitch of the audio signal by shifting it up or down by a random number of semitones within the specified range.\n",
        "    PitchShift(min_semitones=-4, max_semitones=4, p=0.5),\n",
        "\n",
        "    # This augmentation changes the tempo of the audio signal by stretching or compressing it.\n",
        "    TimeStretch(min_rate=0.8, max_rate=1.25, p=0.5),\n",
        "\n",
        "    # This augmentation simulates clipping distortion by applying a random threshold (in percentile) to the audio signal\n",
        "    ClippingDistortion(min_percentile_threshold=0, max_percentile_threshold=10, p=0.4),\n",
        "\n",
        "    # This augmentation adjusts the volume (gain) of the audio signal by applying a random gain factor within the specified range.\n",
        "    Gain(min_gain_in_db=-6, max_gain_in_db=6, p=0.5),\n",
        "\n",
        "])\n",
        "\n",
        "class Mydataset(Dataset):\n",
        "    def __init__(self, mode='train', max_len=6, seed=42):\n",
        "        self.mode = mode\n",
        "        data_all = pd.read_csv('small-project/small-project/IEMOCAP_4.tsv',sep='\\t')\n",
        "        SpkNames = np.unique(data_all['speaker']) # only 10 speakers, (['Ses01F', 'Ses01M', 'Ses02F', 'Ses02M', 'Ses03F', 'Ses03M','Ses04F', 'Ses04M', 'Ses05F', 'Ses05M']\n",
        "        self.data_info = self.split_dataset(data_all, SpkNames)\n",
        "        self.get_audio_dir_path = os.path.join('small-project/small-project/IEMOCAP_full_release_audio/')\n",
        "        self.pad_trunc = Pad_trunc_wav(max_len*16000)\n",
        "        self.transform = Deltas_Deltas_FBank()\n",
        "        # label is emotion type:  A: Angry  H: Happy, N: Natural, S: Sad\n",
        "        self.label = self.data_info['label'].astype('category').cat.codes.values\n",
        "\n",
        "        self.ClassNames = np.unique(self.data_info['label'])\n",
        "        self.NumClasses = len(self.ClassNames)\n",
        "        if mode == 'train':\n",
        "          print(\"Each emotion has the following number of training samples:\")\n",
        "          print([[self.ClassNames[i], (self.label == i).sum()] for i in range(self.NumClasses)])\n",
        "        self.weight = 1/torch.tensor([(self.label==i).sum() for i in range(self.NumClasses)]).float()\n",
        "\n",
        "    def get_classname(self):\n",
        "        return  self.ClassNames\n",
        "\n",
        "    def split_dataset(self, df_all, speakers):\n",
        "        spk_len = len(speakers)\n",
        "        test_idx = np.array(df_all['speaker']==speakers[0]) # audio from 'Ses01F' as test set\n",
        "        val_idx = np.array(df_all['speaker']==speakers[1]) #  audio from 'Ses01M' as val set\n",
        "        train_idx = True^(test_idx+val_idx)\n",
        "        train_data_info = df_all[train_idx].reset_index(drop=True)\n",
        "        val_data_info = df_all[val_idx].reset_index(drop=True)\n",
        "        test_data_info = df_all[test_idx].reset_index(drop=True)\n",
        "\n",
        "        if self.mode == 'train':\n",
        "            data_info = train_data_info\n",
        "        elif self.mode == 'val':\n",
        "            data_info = val_data_info\n",
        "        elif self.mode == 'test':\n",
        "            data_info = test_data_info\n",
        "        else:\n",
        "            data_info = df_all\n",
        "        return data_info\n",
        "\n",
        "    def pre_process(self, wav): #updated!!\n",
        "        # Normalize the waveform\n",
        "        if torch.max(torch.abs(wav)) != 0:\n",
        "            wav = wav / torch.max(torch.abs(wav)) # Normalize to [-1, 1] range\n",
        "        wav = self.pad_trunc(wav)  # Pad or truncate the waveform to the desired length\n",
        "        return wav\n",
        "\n",
        "    def extract_fbank(self, wav, sample_rate):\n",
        "        wav = wav * (1 << 15)\n",
        "        if sample_rate!=16000:\n",
        "            # if sample rate is not 16k, change (transform) to 16k\n",
        "            wav = torchaudio.transforms.Resample(orig_freq=sample_rate, new_freq=16000)(wav)\n",
        "        # Extract Raw Fbank feature, the Fbank feature dimension is 80\n",
        "        spec = kaldi.fbank(wav,num_mel_bins=80,frame_length=25,frame_shift=10,sample_frequency=16000,high_freq=8000,low_freq=0,window_type='hamming')\n",
        "        return spec\n",
        "\n",
        "    def copy_paste(self, emo_wav, neutral_wav):\n",
        "        # Concatenate an emotional utterance and a neutral utterance\n",
        "        augmented_wav = torch.cat((emo_wav, neutral_wav), dim=-1)  # Concatenate along the time dimension\n",
        "        return augmented_wav\n",
        "\n",
        "    def apply_augmentations(self, wav, sample_rate): #added\n",
        "        # Convert PyTorch tensor to numpy for augmentation\n",
        "        wav_numpy = wav.numpy().flatten()\n",
        "\n",
        "        # Apply augmentations\n",
        "        augmented_wav = augment(samples=wav_numpy, sample_rate=sample_rate)\n",
        "\n",
        "        # Convert back to PyTorch tensor\n",
        "        wav = torch.tensor(augmented_wav).unsqueeze(0)\n",
        "\n",
        "        return wav\n",
        "    def __len__(self):\n",
        "        return len(self.data_info)\n",
        "\n",
        "    def __getitem__(self, idx):\n",
        "        wav, sample_rate = torchaudio.load(os.path.join(self.get_audio_dir_path, self.data_info.filename[idx]) + '.wav')\n",
        "         # Apply augmentations if in training mode\n",
        "        if self.mode == 'train':\n",
        "            # Applies GaussianNoise, PitchShift, TimeStretch, ClippingDistorition, and Gain augments\n",
        "            wav = self.apply_augmentations(wav, sample_rate)\n",
        "            # Combines emotional and neutral file to create a new sample\n",
        "            if np.random.rand() < 0.5:\n",
        "                # Index(['A', 'H', 'N', 'S'], dtype='object')\n",
        "                neutral_idx = np.random.choice(np.where(self.label == 2)[0])\n",
        "                neutral_wav, _ = torchaudio.load(os.path.join(self.get_audio_dir_path, self.data_info.filename[neutral_idx]) + '.wav')\n",
        "                wav = self.copy_paste(wav, neutral_wav)\n",
        "\n",
        "\n",
        "        wav = self.pre_process(wav)\n",
        "        spec = self.transform(self.extract_fbank(wav, sample_rate)).float()\n",
        "        label = torch.tensor(self.label[idx], dtype=torch.long)\n",
        "\n",
        "        return spec, label, self.data_info.filename[idx]\n",
        "\n",
        "import torch\n",
        "import torch.nn as nn\n",
        "import torch.nn.functional as F\n",
        "\n",
        "import torch\n",
        "import torch.nn as nn\n",
        "import torch.nn.functional as F\n",
        "\n",
        "class Mymodel(nn.Module):\n",
        "    def __init__(self, feature_size=80, h_dims=256, emotion_cls=4):\n",
        "        super(Mymodel, self).__init__()\n",
        "        self.bn0 = nn.BatchNorm2d(feature_size)\n",
        "\n",
        "        self.conv_block1 = self.ConvBlock5x5(in_channels=3, out_channels=64)\n",
        "        self.conv_block2 = self.ConvBlock5x5(in_channels=64, out_channels=128)\n",
        "        self.conv_block3 = self.ConvBlock5x5(in_channels=128, out_channels=256)\n",
        "        self.conv_block4 = self.ConvBlock5x5(in_channels=256, out_channels=512)\n",
        "\n",
        "        self.att_block = self.AttBlock(512, h_dims, activation='linear')\n",
        "\n",
        "        self.fc1 = nn.Linear(h_dims, h_dims // 2)\n",
        "        self.activation = nn.ReLU()\n",
        "        self.dropout = nn.Dropout(p=0.5) #previously it was 0.3\n",
        "        self.bn = nn.BatchNorm1d(h_dims // 2)\n",
        "        self.fc2 = nn.Linear(h_dims // 2, emotion_cls)\n",
        "        self.outlayer = nn.LogSoftmax(dim=-1)\n",
        "\n",
        "    class AttBlock(nn.Module):\n",
        "        def __init__(self, n_in, n_out, activation='linear', temperature=1.):\n",
        "            super(Mymodel.AttBlock, self).__init__()\n",
        "\n",
        "            self.activation = activation\n",
        "            self.temperature = temperature\n",
        "            self.att = nn.Conv1d(in_channels=n_in, out_channels=n_out, kernel_size=1, stride=1, padding=0, bias=True)\n",
        "            self.cla = nn.Conv1d(in_channels=n_in, out_channels=n_out, kernel_size=1, stride=1, padding=0, bias=True)\n",
        "\n",
        "            self.bn_att = nn.BatchNorm1d(n_out)\n",
        "\n",
        "        def forward(self, x):\n",
        "            norm_att = torch.softmax(torch.clamp(self.att(x), -10, 10), dim=-1)\n",
        "            cla = self.nonlinear_transform(self.cla(x))\n",
        "            x = torch.sum(norm_att * cla, dim=2)\n",
        "            return x, norm_att, cla\n",
        "\n",
        "        def nonlinear_transform(self, x):\n",
        "            if self.activation == 'linear':\n",
        "                return x\n",
        "            elif self.activation == 'sigmoid':\n",
        "                return torch.sigmoid(x)\n",
        "\n",
        "    class ConvBlock5x5(nn.Module):\n",
        "        def __init__(self, in_channels, out_channels):\n",
        "            super(Mymodel.ConvBlock5x5, self).__init__()\n",
        "            self.conv1 = nn.Conv2d(in_channels=in_channels,\n",
        "                                   out_channels=out_channels,\n",
        "                                   kernel_size=(3, 3), stride=(1, 1), #Kernel_size previously is 5 , 5\n",
        "                                   padding=(1, 1), bias=False) #padding was pewviously 2, 2. Network in a Network Approach\n",
        "            self.bn1 = nn.BatchNorm2d(out_channels)\n",
        "\n",
        "        def forward(self, input, pool_size=(2, 2), pool_type='avg'):\n",
        "            x = input\n",
        "            x = F.relu_(self.bn1(self.conv1(x)))\n",
        "            if pool_type == 'max':\n",
        "                x = F.max_pool2d(x, kernel_size=pool_size)\n",
        "            elif pool_type == 'avg':\n",
        "                x = F.avg_pool2d(x, kernel_size=pool_size)\n",
        "            elif pool_type == 'avg+max':\n",
        "                x1 = F.avg_pool2d(x, kernel_size=pool_size)\n",
        "                x2 = F.max_pool2d(x, kernel_size=pool_size)\n",
        "                x = x1 + x2\n",
        "            else:\n",
        "                raise Exception('Incorrect argument!')\n",
        "            return x\n",
        "\n",
        "    def forward(self, inputs):\n",
        "        x = inputs.transpose(1, 3)\n",
        "        x = self.bn0(x)\n",
        "        x = x.transpose(1, 3)\n",
        "        x = self.conv_block1(x, pool_size=(2, 2), pool_type='max')\n",
        "        x = F.dropout(x, p=0.5, training=self.training)\n",
        "        x = self.conv_block2(x, pool_size=(2, 2), pool_type='max')\n",
        "        x = F.dropout(x, p=0.5, training=self.training)\n",
        "        x = self.conv_block3(x, pool_size=(2, 2), pool_type='max')\n",
        "        x = F.dropout(x, p=0.5, training=self.training)\n",
        "        x = self.conv_block4(x, pool_size=(2, 2), pool_type='max')\n",
        "        x = F.dropout(x, p=0.5, training=self.training)\n",
        "\n",
        "        x = torch.mean(x, dim=3)  # (batch_size, channels, time)\n",
        "        #att_output, norm_att, cla = self.att_block(x) #\n",
        "        x = torch.sum(x, dim=2)\n",
        "        emo_ebd = x\n",
        "        x = self.dropout(self.activation(self.bn(self.fc1(x))))\n",
        "        pred = self.outlayer(self.fc2(x))\n",
        "\n",
        "        return pred, emo_ebd\n",
        "\n",
        "# Setup environment and arguments\n",
        "seed = 2024 # random seed\n",
        "batch_size = 128  # batch size, reduce batch size, if you get out of memory problem\n",
        "epochs = 65  # the number of training epoch I reduced to 65 but original is 100. This is done as the curent method is unlikely to reach 100\n",
        "max_len = 6 # the input length for training\n",
        "lr = 1e-3  # learning rate originally 1e-3 will adjust once more variables are fine tuned\n",
        "loss_type = 'CE' #loss function\n",
        "optimizer_type = 'Adam' # optimizer, can try Adam or others\n",
        "\n",
        "def get_logger(filename, verbosity=1, name=None):\n",
        "    level_dict = {0: logging.DEBUG, 1: logging.INFO, 2: logging.WARNING}\n",
        "    formatter = logging.Formatter(\"[%(asctime)s][%(filename)s][line:%(lineno)d][%(levelname)s] %(message)s\")\n",
        "    logger = logging.getLogger(name)\n",
        "    logger.setLevel(level_dict[verbosity])\n",
        "\n",
        "    fh = logging.FileHandler(filename, \"w\")\n",
        "    fh.setFormatter(formatter)\n",
        "    logger.addHandler(fh)\n",
        "\n",
        "    sh = logging.StreamHandler()\n",
        "    sh.setFormatter(formatter)\n",
        "    logger.addHandler(sh)\n",
        "\n",
        "    return logger\n",
        "\n",
        "def train(model, device, train_loader, criterion, optimizer, epoch, logger):\n",
        "    model.train()\n",
        "    logger.info('start training')\n",
        "\n",
        "    lr = optimizer.param_groups[0][\"lr\"]\n",
        "    logger.info('lr: {:.5f}'.format(lr))\n",
        "\n",
        "    correct = 0\n",
        "\n",
        "    for batch, data in tqdm(enumerate(train_loader)):\n",
        "        spec, emo_label,_ = data\n",
        "        spec, emo_label = spec.to(device), emo_label.to(device)\n",
        "        optimizer.zero_grad()\n",
        "\n",
        "        emo_output,_ = model(spec)\n",
        "        loss = criterion(emo_output, emo_label)\n",
        "\n",
        "        loss.backward()\n",
        "        nn.utils.clip_grad_norm_([param for param in model.parameters() if param.requires_grad], max_norm=10, norm_type=2)\n",
        "        optimizer.step()\n",
        "\n",
        "        pred = emo_output.argmax(dim=1, keepdim=True)\n",
        "        correct += pred.eq(emo_label.view_as(pred)).sum().item()\n",
        "\n",
        "        if batch % 20 == 0:\n",
        "            logger.info('Epoch: {} [{}/{} ({:.0f}%)]\\t loss={:.5f}\\t '.format(epoch , batch * len(emo_label), len(train_loader.dataset), 100. * batch / len(train_loader), loss.item()))\n",
        "\n",
        "    logger.info('Train set Accuracy: {}/{} ({:.3f}%)'.format(correct, len(train_loader.dataset), 100. * correct / (len(train_loader.dataset))))\n",
        "    logger.info('finish training!')\n",
        "    return loss\n",
        "\n",
        "import pandas as pd\n",
        "def test(model, device, dataset_type, val_loader, criterion, logger, target_names):\n",
        "    model.eval()\n",
        "    test_loss = 0\n",
        "    correct = 0\n",
        "    logger.info('testing on {}'.format(dataset_type))\n",
        "\n",
        "    pred_all = np.array([],dtype=np.int64)\n",
        "    true_all = np.array([],dtype=np.int64)\n",
        "    nameIDs = np.array([],dtype=str)\n",
        "\n",
        "    embs_all = []  # Collect all embeddings\n",
        "\n",
        "    with torch.no_grad():\n",
        "        for spec, label, nameID in tqdm(val_loader):\n",
        "            #spec, label = [x.to(device) for x in spec], label.to(device)\n",
        "            spec, label = spec.to(device), label.to(device)\n",
        "            output,embs = model(spec)\n",
        "            test_loss += criterion(output, label).item()\n",
        "            pred = output.argmax(dim=1, keepdim=True)\n",
        "            correct += pred.eq(label.view_as(pred)).sum().item()\n",
        "\n",
        "            pred = output.data.max(1)[1].cpu().numpy()\n",
        "            true = label.data.cpu().numpy()\n",
        "            pred_all = np.append(pred_all,pred)\n",
        "            true_all = np.append(true_all,true)\n",
        "            nameIDs = np.append(nameIDs,nameID)\n",
        "\n",
        "            embs_all.append(embs.cpu().numpy())  # Collect embeddings\n",
        "\n",
        "    test_loss /= len(val_loader.dataset)\n",
        "    acc = 100. * correct / len(val_loader.dataset)\n",
        "\n",
        "    logger.info('{}: Average loss: {:.4f}, Accuracy: {}/{} ({:.3f}%)\\n'.format(dataset_type,\n",
        "        test_loss, correct, len(val_loader.dataset), acc))\n",
        "\n",
        "    if dataset_type == 'test':\n",
        "      con_mat = confusion_matrix(true_all,pred_all)\n",
        "      cls_rpt = classification_report(true_all,pred_all,target_names=target_names,digits=3)\n",
        "      logger.info('Confusion Matrix:\\n{}\\n'.format(con_mat))\n",
        "      logger.info('Classification Report:\\n{}\\n'.format(cls_rpt))\n",
        "      # Check if lengths match\n",
        "      if len(nameIDs) == len(pred_all):\n",
        "          # Create DataFrame with the combined data\n",
        "          df = pd.DataFrame({\n",
        "              'ID': nameIDs,\n",
        "              'Predict': pred_all,\n",
        "          })\n",
        "\n",
        "          # Save DataFrame to a CSV file\n",
        "          df.to_csv('label.csv', index=False)\n",
        "          print(\"Data successfully saved to label.csv, please submit label.csv to Kaggle to see the ranking if the testUA > 0.5453.\")\n",
        "      else:\n",
        "          print(f\"Length mismatch: nameIDs length is {len(nameIDs)}, pred_all length is {len(pred_all)}\")\n",
        "      #np.savez('results.npz', true_all=true_all, pred_all=pred_all)\n",
        "\n",
        "\n",
        "    UA = recall_score(true_all,pred_all,average='macro')\n",
        "    WA = recall_score(true_all,pred_all,average='weighted')\n",
        "\n",
        "\n",
        "    # Concatenate all embeddings\n",
        "    embs_all = np.concatenate(embs_all, axis=0)\n",
        "\n",
        "    return test_loss,UA,WA, embs_all, true_all\n",
        "\n",
        "def early_stopping(network,savepath,metricsInEpochs,gap):\n",
        "    best_metric_inx=np.argmax(metricsInEpochs)\n",
        "    if best_metric_inx+1==len(metricsInEpochs):\n",
        "        best = os.path.join(savepath, 'best_epoch_{}.pt'.format(best_metric_inx+1))\n",
        "        torch.save(network,best)\n",
        "        return False\n",
        "    elif (len(metricsInEpochs)-best_metric_inx >= gap):\n",
        "        return True\n",
        "    else:\n",
        "        return False\n",
        "\n",
        "savedir = 'exp'\n",
        "setup_seed(seed)\n",
        "stamp = datetime.datetime.now().strftime('%y%m%d%H%M')\n",
        "tag = stamp + '_' + str(epochs)\n",
        "try:\n",
        "    os.makedirs(savedir)\n",
        "except OSError:\n",
        "    if not os.path.isdir(savedir):\n",
        "        raise\n",
        "\n",
        "logpath = savedir + \"/exp.log\"\n",
        "modelpath = savedir + \"/model.pt\"\n",
        "\n",
        "use_cuda = True\n",
        "device = torch.device(\"cuda\" if use_cuda else \"cpu\")\n",
        "\n",
        "train_set = Mydataset(mode='train', max_len=max_len,  seed=seed)\n",
        "val_set = Mydataset( mode='val', max_len=max_len, seed=seed)\n",
        "test_set = Mydataset( mode='test', max_len=max_len, seed=seed)\n",
        "\n",
        "drop_last = True if len(train_set)%batch_size<2 else False\n",
        "train_loader = DataLoader(train_set, batch_size=batch_size, shuffle=True, num_workers=4, pin_memory=True, drop_last=drop_last)\n",
        "val_loader = DataLoader(val_set, batch_size=batch_size, shuffle=False, num_workers=1, pin_memory=True)\n",
        "test_loader = DataLoader(test_set, batch_size=batch_size, shuffle=False, num_workers=1, pin_memory=True)\n",
        "\n",
        "#print(f\"Number of batches in the train_loader: {len(train_loader)}\")\n",
        "#print(f\"Number of samples in the train_dataset: {len(train_dataset)}\")\n",
        "\n",
        "# Set the device to CPU (Maybe dont use it for final output as it takes 1hour per epoch. Best used to debug the code before it starts the epoch cycle)\n",
        "#device = torch.device('cpu')\n",
        "\n",
        "# Initialize the model on CPU\n",
        "model = Mymodel(feature_size=80, h_dims=512, emotion_cls=train_set.NumClasses).to(device)\n",
        "\n",
        "# If you need to load a saved model, ensure it loads to the CPU\n",
        "# model = torch.load('exp/model.pt', map_location=torch.device('cpu')) (dont uncomment prob not needed rn)\n",
        "\n",
        "# Criterion\n",
        "if loss_type == 'CE':\n",
        "    criterion = nn.NLLLoss()\n",
        "    criterion_test = nn.NLLLoss(reduction='sum')\n",
        "else:\n",
        "    raise NameError\n",
        "\n",
        "# Optimizer\n",
        "if optimizer_type == 'SGD':\n",
        "    optimizer = optim.SGD(model.parameters(), lr=lr, momentum=0.9, weight_decay=1e-5)\n",
        "elif optimizer_type == 'Adam':\n",
        "    optimizer = optim.Adam(model.parameters(), lr=lr)\n",
        "else:\n",
        "    raise NameError\n",
        "\n",
        "# Logger\n",
        "logger = get_logger(logpath)\n",
        "\n",
        "# Scheduler\n",
        "scheduler = ReduceLROnPlateau(optimizer, mode='max', patience=15, factor=0.1, verbose=True)\n",
        "\n",
        "val_UA_list = []\n",
        "test_UA_dic = {}\n",
        "test_WA_dic = {}\n",
        "\n",
        "train_losses = []\n",
        "val_losses = []\n",
        "\n",
        "for epoch in range(1, epochs+1):\n",
        "    print(\"\\n\\n\")\n",
        "    start = time.time()\n",
        "    train_loss = train(model, device, train_loader, criterion, optimizer, epoch, logger)\n",
        "    train_losses.append(train_loss)\n",
        "\n",
        "    time.sleep(0.003)\n",
        "    val_loss,val_UA,_,_,_= test(model, device, 'val', val_loader, criterion_test, logger, train_set.ClassNames)\n",
        "    val_losses.append(val_loss)\n",
        "    end = time.time()\n",
        "    duration = end-start\n",
        "    val_UA_list.append(val_UA)\n",
        "    if early_stopping(model,savedir,val_UA_list,gap=20):\n",
        "        print('val loss has not been decreased for . epochs, stop training \\n')\n",
        "        break\n",
        "\n",
        "    scheduler.step(val_UA)\n",
        "    logger.info(\"-\"*50)\n",
        "    logger.info('EPOCH {:2d} | TIME {:5.4f} sec | Valid Loss {:5.4f} '.format(epoch, duration, val_loss))\n",
        "    logger.info(\"-\"*50)\n",
        "    time.sleep(0.003)\n",
        "\n",
        "'''"
      ],
      "metadata": {
        "id": "45mGnIZlG9Ck"
      },
      "id": "45mGnIZlG9Ck",
      "execution_count": null,
      "outputs": []
    },
    {
      "cell_type": "markdown",
      "source": [
        "# Attempted dual model approach\n",
        "This tried to incoperate an ASR to help train the SER model with the Multi Task learning layer to combine but due to the complexity and time constraint we never finished this build. Its here to show we attempted it. The paper that I was inspired to do this is in the following [Paper link](https://www.isca-archive.org/interspeech_2021/cai21b_interspeech.pdf)"
      ],
      "metadata": {
        "id": "byNr70ZtG79j"
      },
      "id": "byNr70ZtG79j"
    },
    {
      "cell_type": "code",
      "source": [
        "'''\n",
        "Insert the SER+ASR Model code here\n",
        "import os\n",
        "import pandas as pd\n",
        "import torchaudio\n",
        "import torch\n",
        "from datasets import Dataset, DatasetDict\n",
        "from transformers import EarlyStoppingCallback\n",
        "from transformers import Wav2Vec2FeatureExtractor, Wav2Vec2ForSequenceClassification, Wav2Vec2ForCTC, Wav2Vec2Processor, Trainer, TrainingArguments\n",
        "import numpy as np\n",
        "\n",
        "# Path to your dataset and CSV file\n",
        "TSV = r'C:\\Users\\azree\\Downloads\\AAI3001_Project\\labels\\IEMOCAP_4.tsv'\n",
        "DATASET = r'C:\\Users\\azree\\Downloads\\AAI3001_Project\\dataset'\n",
        "TRAIN = os.path.join(DATASET, 'train')\n",
        "TEST = os.path.join(DATASET, 'test')\n",
        "VAL = os.path.join(DATASET, 'val')\n",
        "\n",
        "# Verify filepaths\n",
        "print(\"Train folder path:\", TRAIN)\n",
        "print(\"Test folder path:\", TEST)\n",
        "print(\"Validation folder path:\", VAL)\n",
        "\n",
        "# Define label mapping\n",
        "label_mapping = {\"A\": 0, \"H\": 1, \"N\": 2, \"S\": 3}\n",
        "\n",
        "# Parameters\n",
        "max_len = 6\n",
        "epochs = 5\n",
        "learning_rate = 5e-5\n",
        "weight_decay = 0.1\n",
        "batch_size = 16\n",
        "gradient_accumulation_steps = 2\n",
        "warmup_steps = 500\n",
        "\n",
        "# Load Wav2Vec2 Processor and ASR Model for Transcription\n",
        "processor = Wav2Vec2Processor.from_pretrained(\"facebook/wav2vec2-large-960h\")\n",
        "asr_model = Wav2Vec2ForCTC.from_pretrained(\"facebook/wav2vec2-large-960h\")\n",
        "\n",
        "# Load Wav2Vec2 Feature Extractor and Model for Emotion Recognition\n",
        "feature_extractor = Wav2Vec2FeatureExtractor.from_pretrained(\"facebook/wav2vec2-large-960h\")\n",
        "model = Wav2Vec2ForSequenceClassification.from_pretrained(\"facebook/wav2vec2-large-960h\", num_labels=4)\n",
        "\n",
        "# Data Augmentation\n",
        "from audiomentations import Compose, AddGaussianNoise, PitchShift, TimeStretch, ClippingDistortion\n",
        "\n",
        "augment = Compose([\n",
        "    # This augmentation adds Gaussian noise to the audio signal.\n",
        "    AddGaussianNoise(min_amplitude=0.001, max_amplitude=0.015, p=0.5),\n",
        "    # This augmentation changes the pitch of the audio signal by shifting it up or down by a random number of semitones within the specified range.\n",
        "    PitchShift(min_semitones=-4, max_semitones=4, p=0.5),\n",
        "    # This augmentation changes the tempo of the audio signal by stretching or compressing it.\n",
        "    TimeStretch(min_rate=0.8, max_rate=1.25, p=0.5),\n",
        "    # This augmentation simulates clipping distortion by applying a random threshold (in percentile) to the audio signal\n",
        "    ClippingDistortion(min_percentile_threshold=0, max_percentile_threshold=10, p=0.4)\n",
        "])\n",
        "\n",
        "def load_dataset_with_transcriptions(audio_folder, label_df):\n",
        "    data = []\n",
        "    for index, row in label_df.iterrows():\n",
        "        file_name = row[\"filename\"] + \".wav\"\n",
        "        label_str = row[\"label\"]\n",
        "        file_path = os.path.join(audio_folder, file_name)\n",
        "\n",
        "        if os.path.exists(file_path) and file_path.endswith(\".wav\"):\n",
        "            speech, sampling_rate = load_audio_file(file_path)\n",
        "            if speech is not None:\n",
        "                # Pad/Truncate audio to fixed length\n",
        "                speech = torch.tensor(speech).unsqueeze(0)\n",
        "                speech = pad_trunc_wav(speech, max_len=max_len).squeeze(0)\n",
        "\n",
        "                # Apply data augmentation\n",
        "                augmented_speech = augment(speech.numpy(), sampling_rate=sampling_rate)\n",
        "                augmented_speech = torch.tensor(augmented_speech).unsqueeze(0)\n",
        "                augmented_speech = pad_trunc_wav(augmented_speech, max_len=max_len).squeeze(0)\n",
        "\n",
        "                # Transcribe audio (ASR)\n",
        "                transcription = transcribe_audio(speech.numpy())\n",
        "                print(f\"Transcription: {transcription}\")\n",
        "\n",
        "                # Map label to integer\n",
        "                if label_str in label_mapping:\n",
        "                    label = label_mapping[label_str]\n",
        "                else:\n",
        "                    raise ValueError(f\"Unknown label '{label_str}' encountered.\")\n",
        "\n",
        "                # Append to dataset\n",
        "                data.append({\"speech\": speech, \"augmented_speech\": augmented_speech, \"transcription\": transcription, \"label\": label})\n",
        "    return Dataset.from_dict({\n",
        "        \"speech\": [d[\"speech\"] for d in data],\n",
        "        \"augmented_speech\": [d[\"augmented_speech\"] for d in data],\n",
        "        \"transcription\": [d[\"transcription\"] for d in data],\n",
        "        \"label\": [d[\"label\"] for d in data]\n",
        "    })\n",
        "\n",
        "# Define Dataset\n",
        "emotion_dataset = load_dataset_with_transcriptions(TRAIN, pd.read_csv(TSV))\n",
        "\n",
        "# Preprocessing Function\n",
        "def preprocess_function(examples):\n",
        "    inputs = feature_extractor(examples[\"speech\"], sampling_rate=16000, return_tensors=\"pt\", padding=True)\n",
        "    return inputs\n",
        "\n",
        "emotion_dataset = emotion_dataset.map(preprocess_function, batched=True)\n",
        "\n",
        "# Define Training Arguments\n",
        "training_args = TrainingArguments(\n",
        "    output_dir=\"./wav2vec2-test-results\",\n",
        "    per_device_train_batch_size=batch_size,\n",
        "    per_device_eval_batch_size=batch_size,\n",
        "    gradient_accumulation_steps=gradient_accumulation_steps,\n",
        "    learning_rate=learning_rate,\n",
        "    weight_decay=weight_decay,\n",
        "    warmup_steps=warmup_steps,\n",
        "    num_train_epochs=epochs,\n",
        "    evaluation_strategy=\"epoch\",\n",
        "    save_strategy=\"epoch\",\n",
        "    load_best_model_at_end=True,\n",
        "    metric_for_best_model=\"accuracy\",\n",
        "    fp16=True,\n",
        "    optimizer=\"adamw\"\n",
        ")\n",
        "\n",
        "# Metric Computation Function\n",
        "def compute_metrics(pred):\n",
        "    labels = pred.label_ids\n",
        "    preds = pred.predictions.argmax(-1)\n",
        "    accuracy = np.mean(preds == labels)\n",
        "    return {\"accuracy\": accuracy}\n",
        "\n",
        "# Trainer Object\n",
        "trainer = Trainer(\n",
        "    model=model,\n",
        "    args=training_args,\n",
        "    train_dataset=emotion_dataset,\n",
        "    eval_dataset=emotion_dataset,\n",
        "    compute_metrics=compute_metrics,\n",
        "    callbacks=[EarlyStoppingCallback(early_stopping_patience=3)]\n",
        ")\n",
        "\n",
        "# Train Model (SER)\n",
        "trainer.train()\n",
        "\n",
        "# Evaluate Model (SER)\n",
        "eval_results = trainer.evaluate(emotion_dataset)\n",
        "print(f\"Evaluation results: {eval_results}\")\n",
        "\n",
        "# Save Trained Model\n",
        "trainer.save_model(\"./wav2vec2-trained-model\")\n",
        "\n",
        "\n",
        "'''"
      ],
      "metadata": {
        "id": "w2nkqBM6mhGn"
      },
      "execution_count": null,
      "outputs": [],
      "id": "w2nkqBM6mhGn"
    }
  ]
}